{
 "cells": [
  {
   "cell_type": "markdown",
   "id": "0bc9a0fb",
   "metadata": {},
   "source": [
    "# Go to next page"
   ]
  },
  {
   "cell_type": "code",
   "execution_count": null,
   "id": "cb11b845",
   "metadata": {},
   "outputs": [],
   "source": [
    "import time\n",
    "while True:\n",
    "    driver.find_element(By.XPATH,'//a[@aria-label=\"Next\"]').click()\n",
    "    time.sleep(1)\n",
    "    if len(driver.find_elements(By.XPATH,'//a[@aria-label=\"Next\"]'))==0:\n",
    "        break"
   ]
  }
 ],
 "metadata": {
  "kernelspec": {
   "display_name": "Python 3 (ipykernel)",
   "language": "python",
   "name": "python3"
  },
  "language_info": {
   "codemirror_mode": {
    "name": "ipython",
    "version": 3
   },
   "file_extension": ".py",
   "mimetype": "text/x-python",
   "name": "python",
   "nbconvert_exporter": "python",
   "pygments_lexer": "ipython3",
   "version": "3.9.7"
  }
 },
 "nbformat": 4,
 "nbformat_minor": 5
}
