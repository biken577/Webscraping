{
 "cells": [
  {
   "cell_type": "code",
   "execution_count": 1,
   "id": "cac31b14",
   "metadata": {},
   "outputs": [],
   "source": [
    "#selenium imports\n",
    "from selenium import webdriver\n",
    "from selenium.webdriver.common.keys import Keys\n",
    "from selenium.webdriver.support import expected_conditions as EC\n",
    "from selenium.webdriver.common.by import By\n",
    "from selenium.webdriver.support.wait import WebDriverWait\n",
    "import pandas as pd"
   ]
  },
  {
   "cell_type": "code",
   "execution_count": 2,
   "id": "bdf3a12e",
   "metadata": {},
   "outputs": [],
   "source": [
    "#other imports\n",
    "import os\n",
    "import wget"
   ]
  },
  {
   "cell_type": "code",
   "execution_count": 3,
   "id": "3455500c",
   "metadata": {},
   "outputs": [
    {
     "name": "stderr",
     "output_type": "stream",
     "text": [
      "/var/folders/0d/2q3_g9bj7tn1m1t1w5crmtvh0000gn/T/ipykernel_9089/942675586.py:1: DeprecationWarning: executable_path has been deprecated, please pass in a Service object\n",
      "  driver=webdriver.Chrome('/usr/local/bin/chromedriver')\n"
     ]
    }
   ],
   "source": [
    "driver=webdriver.Chrome('/usr/local/bin/chromedriver')"
   ]
  },
  {
   "cell_type": "code",
   "execution_count": 4,
   "id": "486944ea",
   "metadata": {},
   "outputs": [],
   "source": [
    "#load the page\n",
    "driver.get('https://www.yelp.com/')"
   ]
  },
  {
   "cell_type": "code",
   "execution_count": 5,
   "id": "33577533",
   "metadata": {},
   "outputs": [],
   "source": [
    "business_name='spicy bites'"
   ]
  },
  {
   "cell_type": "code",
   "execution_count": 6,
   "id": "5f31133a",
   "metadata": {},
   "outputs": [],
   "source": [
    "search_bar=driver.find_element(By.XPATH,'//input[@id=\"find_desc\"]')\n",
    "search_bar.send_keys(business_name)\n"
   ]
  },
  {
   "cell_type": "code",
   "execution_count": 7,
   "id": "293bd8d2",
   "metadata": {},
   "outputs": [],
   "source": [
    "search_bar.send_keys(Keys.ENTER)"
   ]
  },
  {
   "cell_type": "code",
   "execution_count": 8,
   "id": "fd58a07e",
   "metadata": {},
   "outputs": [],
   "source": [
    "top_match=driver.find_element(By.XPATH,'//li[div[h2[text()=\"Top match\"]]]/following-sibling::li//h3//a')\n",
    "top_match.click()"
   ]
  },
  {
   "cell_type": "code",
   "execution_count": 9,
   "id": "73e1a1a6",
   "metadata": {},
   "outputs": [],
   "source": [
    "url=driver.current_url"
   ]
  },
  {
   "cell_type": "code",
   "execution_count": 10,
   "id": "10f3d845",
   "metadata": {},
   "outputs": [
    {
     "data": {
      "text/plain": [
       "'https://www.yelp.com/biz/spicy-bites-arlington?osq=spicy+bites'"
      ]
     },
     "execution_count": 10,
     "metadata": {},
     "output_type": "execute_result"
    }
   ],
   "source": [
    "url"
   ]
  },
  {
   "cell_type": "markdown",
   "id": "d6b2a83b",
   "metadata": {},
   "source": [
    "import time\n",
    "paragraph_list=[]\n",
    "while True:\n",
    "    reviews=driver.find_elements(By.XPATH,\"//div[contains(@class,'review')]\")\n",
    "    for review in reviews:\n",
    "        paragraph=review.find_element(By.XPATH,'.//p[contains(@class,\"comment\")]').text\n",
    "        if paragraph not in paragraph_list:\n",
    "            paragraph_list.append(paragraph)\n",
    "    driver.find_element(By.XPATH,'//a[@aria-label=\"Next\"]').click()\n",
    "    time.sleep(1)\n",
    "    if len(driver.find_elements(By.XPATH,'//a[@aria-label=\"Next\"]'))==0:\n",
    "        break\n",
    "    current_url=driver.current_url\n",
    "    print(current_url)\n",
    "    driver.get(current_url)\n",
    "    time.sleep(3)"
   ]
  },
  {
   "cell_type": "code",
   "execution_count": 11,
   "id": "d622f172",
   "metadata": {
    "scrolled": true
   },
   "outputs": [
    {
     "name": "stdout",
     "output_type": "stream",
     "text": [
      "https://www.yelp.com/biz/spicy-bites-arlington?osq=spicy+bites&start=10\n"
     ]
    }
   ],
   "source": [
    "import time\n",
    "#reviews\n",
    "paragraph_list=[]\n",
    "reviews=driver.find_elements(By.XPATH,\"//div[contains(@class,'review')]\")\n",
    "while True:\n",
    "    reviews=driver.find_elements(By.XPATH,\"//div[contains(@class,'review')]\")\n",
    "    for review in reviews:\n",
    "        paragraph=review.find_element(By.XPATH,'.//p[contains(@class,\"comment\")]').text\n",
    "        #print(paragraph)\n",
    "        #print('--')\n",
    "        if paragraph not in paragraph_list:\n",
    "            paragraph_list.append(paragraph)\n",
    "    if len(driver.find_elements(By.XPATH,'//a[@aria-label=\"Next\"]'))==0:\n",
    "        break\n",
    "    driver.find_element(By.XPATH,'//a[@aria-label=\"Next\"]').click()\n",
    "    time.sleep(2)\n",
    "    current_url=driver.current_url\n",
    "    print(current_url)\n",
    "    driver.get(current_url)\n",
    "    time.sleep(2)\n",
    "    #driver.implicitly_wait(3) # seconds\n",
    "    #reviews=driver.find_elements(By.XPATH,\"//div[contains(@class,'review')]\")"
   ]
  },
  {
   "cell_type": "code",
   "execution_count": 12,
   "id": "d43b963d",
   "metadata": {},
   "outputs": [
    {
     "data": {
      "text/plain": [
       "19"
      ]
     },
     "execution_count": 12,
     "metadata": {},
     "output_type": "execute_result"
    }
   ],
   "source": [
    "len(paragraph_list)"
   ]
  },
  {
   "cell_type": "code",
   "execution_count": 28,
   "id": "1e121dc0",
   "metadata": {},
   "outputs": [],
   "source": [
    "paragraph_df=pd.DataFrame(paragraph_list,columns=['reviews'])"
   ]
  },
  {
   "cell_type": "code",
   "execution_count": 29,
   "id": "ffa3f6a1",
   "metadata": {},
   "outputs": [
    {
     "data": {
      "text/html": [
       "<div>\n",
       "<style scoped>\n",
       "    .dataframe tbody tr th:only-of-type {\n",
       "        vertical-align: middle;\n",
       "    }\n",
       "\n",
       "    .dataframe tbody tr th {\n",
       "        vertical-align: top;\n",
       "    }\n",
       "\n",
       "    .dataframe thead th {\n",
       "        text-align: right;\n",
       "    }\n",
       "</style>\n",
       "<table border=\"1\" class=\"dataframe\">\n",
       "  <thead>\n",
       "    <tr style=\"text-align: right;\">\n",
       "      <th></th>\n",
       "      <th>reviews</th>\n",
       "    </tr>\n",
       "  </thead>\n",
       "  <tbody>\n",
       "    <tr>\n",
       "      <th>0</th>\n",
       "      <td>I love this restaurant!!! Best Butter Chicken ...</td>\n",
       "    </tr>\n",
       "    <tr>\n",
       "      <th>1</th>\n",
       "      <td>Flew out of town to dine at this place. Typica...</td>\n",
       "    </tr>\n",
       "    <tr>\n",
       "      <th>2</th>\n",
       "      <td>Horrible food.The idli was hard the biryani ha...</td>\n",
       "    </tr>\n",
       "    <tr>\n",
       "      <th>3</th>\n",
       "      <td>This was a dangerous meal and I have other com...</td>\n",
       "    </tr>\n",
       "    <tr>\n",
       "      <th>4</th>\n",
       "      <td>Came across a YouTube video for pav bhaji so I...</td>\n",
       "    </tr>\n",
       "  </tbody>\n",
       "</table>\n",
       "</div>"
      ],
      "text/plain": [
       "                                             reviews\n",
       "0  I love this restaurant!!! Best Butter Chicken ...\n",
       "1  Flew out of town to dine at this place. Typica...\n",
       "2  Horrible food.The idli was hard the biryani ha...\n",
       "3  This was a dangerous meal and I have other com...\n",
       "4  Came across a YouTube video for pav bhaji so I..."
      ]
     },
     "execution_count": 29,
     "metadata": {},
     "output_type": "execute_result"
    }
   ],
   "source": [
    "paragraph_df.head()"
   ]
  },
  {
   "cell_type": "code",
   "execution_count": 30,
   "id": "e82697f8",
   "metadata": {},
   "outputs": [
    {
     "data": {
      "text/plain": [
       "\"I love this restaurant!!! Best Butter Chicken I've ever had. The Garlic Naan is so buttery and fresh. The Chicken Vindaloo has the perfect amount of spice. I can't wait to try more dishes!\""
      ]
     },
     "execution_count": 30,
     "metadata": {},
     "output_type": "execute_result"
    }
   ],
   "source": [
    "paragraph_df['reviews'][0]"
   ]
  },
  {
   "cell_type": "code",
   "execution_count": 31,
   "id": "f30bbc1a",
   "metadata": {},
   "outputs": [
    {
     "data": {
      "text/plain": [
       "'Indian and Indian snack food. Best samosas I have had. Samosa chat is quite delicious as well. I enjoyed the chicken biryani and chicken Tikka masala as well.'"
      ]
     },
     "execution_count": 31,
     "metadata": {},
     "output_type": "execute_result"
    }
   ],
   "source": [
    "paragraph_df['reviews'][18]"
   ]
  },
  {
   "cell_type": "code",
   "execution_count": null,
   "id": "2da225fa",
   "metadata": {},
   "outputs": [],
   "source": []
  }
 ],
 "metadata": {
  "kernelspec": {
   "display_name": "Python 3 (ipykernel)",
   "language": "python",
   "name": "python3"
  },
  "language_info": {
   "codemirror_mode": {
    "name": "ipython",
    "version": 3
   },
   "file_extension": ".py",
   "mimetype": "text/x-python",
   "name": "python",
   "nbconvert_exporter": "python",
   "pygments_lexer": "ipython3",
   "version": "3.9.7"
  }
 },
 "nbformat": 4,
 "nbformat_minor": 5
}
