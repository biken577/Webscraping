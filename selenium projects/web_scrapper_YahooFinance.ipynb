{
 "cells": [
  {
   "cell_type": "code",
   "execution_count": 1,
   "id": "614dc601",
   "metadata": {},
   "outputs": [],
   "source": [
    "#selenium imports\n",
    "from selenium import webdriver\n",
    "from selenium.webdriver.common.keys import Keys\n",
    "from selenium.webdriver.support import expected_conditions as EC\n",
    "from selenium.webdriver.common.by import By\n",
    "from selenium.webdriver.support.wait import WebDriverWait\n",
    "import pandas as pd"
   ]
  },
  {
   "cell_type": "code",
   "execution_count": 2,
   "id": "ccb2cef7",
   "metadata": {},
   "outputs": [],
   "source": [
    "#other imports\n",
    "import os\n",
    "import wget"
   ]
  },
  {
   "cell_type": "markdown",
   "id": "15f93265",
   "metadata": {},
   "source": [
    "# working code for yahoo finance"
   ]
  },
  {
   "cell_type": "code",
   "execution_count": 4,
   "id": "b7a53e8c",
   "metadata": {},
   "outputs": [
    {
     "name": "stderr",
     "output_type": "stream",
     "text": [
      "/var/folders/0d/2q3_g9bj7tn1m1t1w5crmtvh0000gn/T/ipykernel_42234/2809078152.py:2: DeprecationWarning: executable_path has been deprecated, please pass in a Service object\n",
      "  driver=webdriver.Chrome('/usr/local/bin/chromedriver')\n"
     ]
    },
    {
     "ename": "SessionNotCreatedException",
     "evalue": "Message: session not created: This version of ChromeDriver only supports Chrome version 103\nCurrent browser version is 108.0.5359.94 with binary path /Applications/Google Chrome.app/Contents/MacOS/Google Chrome\nStacktrace:\n0   chromedriver                        0x0000000102b7dd14 chromedriver + 3792148\n1   chromedriver                        0x0000000102b14828 chromedriver + 3360808\n2   chromedriver                        0x00000001028150b8 chromedriver + 217272\n3   chromedriver                        0x0000000102837ce0 chromedriver + 359648\n4   chromedriver                        0x00000001028346b4 chromedriver + 345780\n5   chromedriver                        0x000000010283168c chromedriver + 333452\n6   chromedriver                        0x0000000102862074 chromedriver + 532596\n7   chromedriver                        0x000000010283a318 chromedriver + 369432\n8   chromedriver                        0x0000000102b531e8 chromedriver + 3617256\n9   chromedriver                        0x0000000102b57678 chromedriver + 3634808\n10  chromedriver                        0x0000000102b5bc6c chromedriver + 3652716\n11  chromedriver                        0x0000000102b58110 chromedriver + 3637520\n12  chromedriver                        0x0000000102b367ac chromedriver + 3499948\n13  chromedriver                        0x0000000102b6fbf0 chromedriver + 3734512\n14  chromedriver                        0x0000000102b6fd54 chromedriver + 3734868\n15  chromedriver                        0x0000000102b84558 chromedriver + 3818840\n16  libsystem_pthread.dylib             0x0000000189c8706c _pthread_start + 148\n17  libsystem_pthread.dylib             0x0000000189c81e2c thread_start + 8\n",
     "output_type": "error",
     "traceback": [
      "\u001b[0;31m---------------------------------------------------------------------------\u001b[0m",
      "\u001b[0;31mSessionNotCreatedException\u001b[0m                Traceback (most recent call last)",
      "\u001b[0;32m/var/folders/0d/2q3_g9bj7tn1m1t1w5crmtvh0000gn/T/ipykernel_42234/2809078152.py\u001b[0m in \u001b[0;36m<module>\u001b[0;34m\u001b[0m\n\u001b[1;32m      1\u001b[0m \u001b[0;31m# load the driver\u001b[0m\u001b[0;34m\u001b[0m\u001b[0;34m\u001b[0m\u001b[0m\n\u001b[0;32m----> 2\u001b[0;31m \u001b[0mdriver\u001b[0m\u001b[0;34m=\u001b[0m\u001b[0mwebdriver\u001b[0m\u001b[0;34m.\u001b[0m\u001b[0mChrome\u001b[0m\u001b[0;34m(\u001b[0m\u001b[0;34m'/usr/local/bin/chromedriver'\u001b[0m\u001b[0;34m)\u001b[0m\u001b[0;34m\u001b[0m\u001b[0;34m\u001b[0m\u001b[0m\n\u001b[0m",
      "\u001b[0;32m~/opt/anaconda3/lib/python3.9/site-packages/selenium/webdriver/chrome/webdriver.py\u001b[0m in \u001b[0;36m__init__\u001b[0;34m(self, executable_path, port, options, service_args, desired_capabilities, service_log_path, chrome_options, service, keep_alive)\u001b[0m\n\u001b[1;32m     68\u001b[0m             \u001b[0mservice\u001b[0m \u001b[0;34m=\u001b[0m \u001b[0mService\u001b[0m\u001b[0;34m(\u001b[0m\u001b[0mexecutable_path\u001b[0m\u001b[0;34m,\u001b[0m \u001b[0mport\u001b[0m\u001b[0;34m,\u001b[0m \u001b[0mservice_args\u001b[0m\u001b[0;34m,\u001b[0m \u001b[0mservice_log_path\u001b[0m\u001b[0;34m)\u001b[0m\u001b[0;34m\u001b[0m\u001b[0;34m\u001b[0m\u001b[0m\n\u001b[1;32m     69\u001b[0m \u001b[0;34m\u001b[0m\u001b[0m\n\u001b[0;32m---> 70\u001b[0;31m         super(WebDriver, self).__init__(DesiredCapabilities.CHROME['browserName'], \"goog\",\n\u001b[0m\u001b[1;32m     71\u001b[0m                                         \u001b[0mport\u001b[0m\u001b[0;34m,\u001b[0m \u001b[0moptions\u001b[0m\u001b[0;34m,\u001b[0m\u001b[0;34m\u001b[0m\u001b[0;34m\u001b[0m\u001b[0m\n\u001b[1;32m     72\u001b[0m                                         \u001b[0mservice_args\u001b[0m\u001b[0;34m,\u001b[0m \u001b[0mdesired_capabilities\u001b[0m\u001b[0;34m,\u001b[0m\u001b[0;34m\u001b[0m\u001b[0;34m\u001b[0m\u001b[0m\n",
      "\u001b[0;32m~/opt/anaconda3/lib/python3.9/site-packages/selenium/webdriver/chromium/webdriver.py\u001b[0m in \u001b[0;36m__init__\u001b[0;34m(self, browser_name, vendor_prefix, port, options, service_args, desired_capabilities, service_log_path, service, keep_alive)\u001b[0m\n\u001b[1;32m     91\u001b[0m \u001b[0;34m\u001b[0m\u001b[0m\n\u001b[1;32m     92\u001b[0m         \u001b[0;32mtry\u001b[0m\u001b[0;34m:\u001b[0m\u001b[0;34m\u001b[0m\u001b[0;34m\u001b[0m\u001b[0m\n\u001b[0;32m---> 93\u001b[0;31m             RemoteWebDriver.__init__(\n\u001b[0m\u001b[1;32m     94\u001b[0m                 \u001b[0mself\u001b[0m\u001b[0;34m,\u001b[0m\u001b[0;34m\u001b[0m\u001b[0;34m\u001b[0m\u001b[0m\n\u001b[1;32m     95\u001b[0m                 command_executor=ChromiumRemoteConnection(\n",
      "\u001b[0;32m~/opt/anaconda3/lib/python3.9/site-packages/selenium/webdriver/remote/webdriver.py\u001b[0m in \u001b[0;36m__init__\u001b[0;34m(self, command_executor, desired_capabilities, browser_profile, proxy, keep_alive, file_detector, options)\u001b[0m\n\u001b[1;32m    267\u001b[0m         \u001b[0mself\u001b[0m\u001b[0;34m.\u001b[0m\u001b[0mfile_detector\u001b[0m \u001b[0;34m=\u001b[0m \u001b[0mfile_detector\u001b[0m \u001b[0;32mor\u001b[0m \u001b[0mLocalFileDetector\u001b[0m\u001b[0;34m(\u001b[0m\u001b[0;34m)\u001b[0m\u001b[0;34m\u001b[0m\u001b[0;34m\u001b[0m\u001b[0m\n\u001b[1;32m    268\u001b[0m         \u001b[0mself\u001b[0m\u001b[0;34m.\u001b[0m\u001b[0mstart_client\u001b[0m\u001b[0;34m(\u001b[0m\u001b[0;34m)\u001b[0m\u001b[0;34m\u001b[0m\u001b[0;34m\u001b[0m\u001b[0m\n\u001b[0;32m--> 269\u001b[0;31m         \u001b[0mself\u001b[0m\u001b[0;34m.\u001b[0m\u001b[0mstart_session\u001b[0m\u001b[0;34m(\u001b[0m\u001b[0mcapabilities\u001b[0m\u001b[0;34m,\u001b[0m \u001b[0mbrowser_profile\u001b[0m\u001b[0;34m)\u001b[0m\u001b[0;34m\u001b[0m\u001b[0;34m\u001b[0m\u001b[0m\n\u001b[0m\u001b[1;32m    270\u001b[0m \u001b[0;34m\u001b[0m\u001b[0m\n\u001b[1;32m    271\u001b[0m     \u001b[0;32mdef\u001b[0m \u001b[0m__repr__\u001b[0m\u001b[0;34m(\u001b[0m\u001b[0mself\u001b[0m\u001b[0;34m)\u001b[0m\u001b[0;34m:\u001b[0m\u001b[0;34m\u001b[0m\u001b[0;34m\u001b[0m\u001b[0m\n",
      "\u001b[0;32m~/opt/anaconda3/lib/python3.9/site-packages/selenium/webdriver/remote/webdriver.py\u001b[0m in \u001b[0;36mstart_session\u001b[0;34m(self, capabilities, browser_profile)\u001b[0m\n\u001b[1;32m    358\u001b[0m         parameters = {\"capabilities\": w3c_caps,\n\u001b[1;32m    359\u001b[0m                       \"desiredCapabilities\": capabilities}\n\u001b[0;32m--> 360\u001b[0;31m         \u001b[0mresponse\u001b[0m \u001b[0;34m=\u001b[0m \u001b[0mself\u001b[0m\u001b[0;34m.\u001b[0m\u001b[0mexecute\u001b[0m\u001b[0;34m(\u001b[0m\u001b[0mCommand\u001b[0m\u001b[0;34m.\u001b[0m\u001b[0mNEW_SESSION\u001b[0m\u001b[0;34m,\u001b[0m \u001b[0mparameters\u001b[0m\u001b[0;34m)\u001b[0m\u001b[0;34m\u001b[0m\u001b[0;34m\u001b[0m\u001b[0m\n\u001b[0m\u001b[1;32m    361\u001b[0m         \u001b[0;32mif\u001b[0m \u001b[0;34m'sessionId'\u001b[0m \u001b[0;32mnot\u001b[0m \u001b[0;32min\u001b[0m \u001b[0mresponse\u001b[0m\u001b[0;34m:\u001b[0m\u001b[0;34m\u001b[0m\u001b[0;34m\u001b[0m\u001b[0m\n\u001b[1;32m    362\u001b[0m             \u001b[0mresponse\u001b[0m \u001b[0;34m=\u001b[0m \u001b[0mresponse\u001b[0m\u001b[0;34m[\u001b[0m\u001b[0;34m'value'\u001b[0m\u001b[0;34m]\u001b[0m\u001b[0;34m\u001b[0m\u001b[0;34m\u001b[0m\u001b[0m\n",
      "\u001b[0;32m~/opt/anaconda3/lib/python3.9/site-packages/selenium/webdriver/remote/webdriver.py\u001b[0m in \u001b[0;36mexecute\u001b[0;34m(self, driver_command, params)\u001b[0m\n\u001b[1;32m    423\u001b[0m         \u001b[0mresponse\u001b[0m \u001b[0;34m=\u001b[0m \u001b[0mself\u001b[0m\u001b[0;34m.\u001b[0m\u001b[0mcommand_executor\u001b[0m\u001b[0;34m.\u001b[0m\u001b[0mexecute\u001b[0m\u001b[0;34m(\u001b[0m\u001b[0mdriver_command\u001b[0m\u001b[0;34m,\u001b[0m \u001b[0mparams\u001b[0m\u001b[0;34m)\u001b[0m\u001b[0;34m\u001b[0m\u001b[0;34m\u001b[0m\u001b[0m\n\u001b[1;32m    424\u001b[0m         \u001b[0;32mif\u001b[0m \u001b[0mresponse\u001b[0m\u001b[0;34m:\u001b[0m\u001b[0;34m\u001b[0m\u001b[0;34m\u001b[0m\u001b[0m\n\u001b[0;32m--> 425\u001b[0;31m             \u001b[0mself\u001b[0m\u001b[0;34m.\u001b[0m\u001b[0merror_handler\u001b[0m\u001b[0;34m.\u001b[0m\u001b[0mcheck_response\u001b[0m\u001b[0;34m(\u001b[0m\u001b[0mresponse\u001b[0m\u001b[0;34m)\u001b[0m\u001b[0;34m\u001b[0m\u001b[0;34m\u001b[0m\u001b[0m\n\u001b[0m\u001b[1;32m    426\u001b[0m             response['value'] = self._unwrap_value(\n\u001b[1;32m    427\u001b[0m                 response.get('value', None))\n",
      "\u001b[0;32m~/opt/anaconda3/lib/python3.9/site-packages/selenium/webdriver/remote/errorhandler.py\u001b[0m in \u001b[0;36mcheck_response\u001b[0;34m(self, response)\u001b[0m\n\u001b[1;32m    245\u001b[0m                 \u001b[0malert_text\u001b[0m \u001b[0;34m=\u001b[0m \u001b[0mvalue\u001b[0m\u001b[0;34m[\u001b[0m\u001b[0;34m'alert'\u001b[0m\u001b[0;34m]\u001b[0m\u001b[0;34m.\u001b[0m\u001b[0mget\u001b[0m\u001b[0;34m(\u001b[0m\u001b[0;34m'text'\u001b[0m\u001b[0;34m)\u001b[0m\u001b[0;34m\u001b[0m\u001b[0;34m\u001b[0m\u001b[0m\n\u001b[1;32m    246\u001b[0m             \u001b[0;32mraise\u001b[0m \u001b[0mexception_class\u001b[0m\u001b[0;34m(\u001b[0m\u001b[0mmessage\u001b[0m\u001b[0;34m,\u001b[0m \u001b[0mscreen\u001b[0m\u001b[0;34m,\u001b[0m \u001b[0mstacktrace\u001b[0m\u001b[0;34m,\u001b[0m \u001b[0malert_text\u001b[0m\u001b[0;34m)\u001b[0m  \u001b[0;31m# type: ignore[call-arg]  # mypy is not smart enough here\u001b[0m\u001b[0;34m\u001b[0m\u001b[0;34m\u001b[0m\u001b[0m\n\u001b[0;32m--> 247\u001b[0;31m         \u001b[0;32mraise\u001b[0m \u001b[0mexception_class\u001b[0m\u001b[0;34m(\u001b[0m\u001b[0mmessage\u001b[0m\u001b[0;34m,\u001b[0m \u001b[0mscreen\u001b[0m\u001b[0;34m,\u001b[0m \u001b[0mstacktrace\u001b[0m\u001b[0;34m)\u001b[0m\u001b[0;34m\u001b[0m\u001b[0;34m\u001b[0m\u001b[0m\n\u001b[0m\u001b[1;32m    248\u001b[0m \u001b[0;34m\u001b[0m\u001b[0m\n\u001b[1;32m    249\u001b[0m     \u001b[0;32mdef\u001b[0m \u001b[0m_value_or_default\u001b[0m\u001b[0;34m(\u001b[0m\u001b[0mself\u001b[0m\u001b[0;34m,\u001b[0m \u001b[0mobj\u001b[0m\u001b[0;34m:\u001b[0m \u001b[0mMapping\u001b[0m\u001b[0;34m[\u001b[0m\u001b[0m_KT\u001b[0m\u001b[0;34m,\u001b[0m \u001b[0m_VT\u001b[0m\u001b[0;34m]\u001b[0m\u001b[0;34m,\u001b[0m \u001b[0mkey\u001b[0m\u001b[0;34m:\u001b[0m \u001b[0m_KT\u001b[0m\u001b[0;34m,\u001b[0m \u001b[0mdefault\u001b[0m\u001b[0;34m:\u001b[0m \u001b[0m_VT\u001b[0m\u001b[0;34m)\u001b[0m \u001b[0;34m->\u001b[0m \u001b[0m_VT\u001b[0m\u001b[0;34m:\u001b[0m\u001b[0;34m\u001b[0m\u001b[0;34m\u001b[0m\u001b[0m\n",
      "\u001b[0;31mSessionNotCreatedException\u001b[0m: Message: session not created: This version of ChromeDriver only supports Chrome version 103\nCurrent browser version is 108.0.5359.94 with binary path /Applications/Google Chrome.app/Contents/MacOS/Google Chrome\nStacktrace:\n0   chromedriver                        0x0000000102b7dd14 chromedriver + 3792148\n1   chromedriver                        0x0000000102b14828 chromedriver + 3360808\n2   chromedriver                        0x00000001028150b8 chromedriver + 217272\n3   chromedriver                        0x0000000102837ce0 chromedriver + 359648\n4   chromedriver                        0x00000001028346b4 chromedriver + 345780\n5   chromedriver                        0x000000010283168c chromedriver + 333452\n6   chromedriver                        0x0000000102862074 chromedriver + 532596\n7   chromedriver                        0x000000010283a318 chromedriver + 369432\n8   chromedriver                        0x0000000102b531e8 chromedriver + 3617256\n9   chromedriver                        0x0000000102b57678 chromedriver + 3634808\n10  chromedriver                        0x0000000102b5bc6c chromedriver + 3652716\n11  chromedriver                        0x0000000102b58110 chromedriver + 3637520\n12  chromedriver                        0x0000000102b367ac chromedriver + 3499948\n13  chromedriver                        0x0000000102b6fbf0 chromedriver + 3734512\n14  chromedriver                        0x0000000102b6fd54 chromedriver + 3734868\n15  chromedriver                        0x0000000102b84558 chromedriver + 3818840\n16  libsystem_pthread.dylib             0x0000000189c8706c _pthread_start + 148\n17  libsystem_pthread.dylib             0x0000000189c81e2c thread_start + 8\n"
     ]
    }
   ],
   "source": [
    "# load the driver\n",
    "driver=webdriver.Chrome('/usr/local/bin/chromedriver')"
   ]
  },
  {
   "cell_type": "code",
   "execution_count": null,
   "id": "33365bd4",
   "metadata": {},
   "outputs": [],
   "source": [
    "driver.get('https://finance.yahoo.com/quote/TWTR?p=TWTR&.tsrc=fin-srch')"
   ]
  },
  {
   "cell_type": "code",
   "execution_count": 48,
   "id": "454934a7",
   "metadata": {},
   "outputs": [],
   "source": [
    "#driver.execute_script(\"return arguments[0].innerHTML;\",news[2])"
   ]
  },
  {
   "cell_type": "code",
   "execution_count": 49,
   "id": "633c8f1f",
   "metadata": {},
   "outputs": [],
   "source": [
    "news=driver.find_elements(By.XPATH,'//div[@data-test-locator=\"mega\"]')"
   ]
  },
  {
   "cell_type": "code",
   "execution_count": 50,
   "id": "cd8cdf74",
   "metadata": {},
   "outputs": [
    {
     "data": {
      "text/plain": [
       "10"
      ]
     },
     "execution_count": 50,
     "metadata": {},
     "output_type": "execute_result"
    }
   ],
   "source": [
    "len(news)"
   ]
  },
  {
   "cell_type": "code",
   "execution_count": 51,
   "id": "94b8808a",
   "metadata": {},
   "outputs": [],
   "source": [
    "last_position = driver.execute_script(\"return window.pageYOffset;\")\n",
    "first_list=[]\n",
    "second_list=[]\n",
    "third_list=[]\n",
    "date_list=[]\n",
    "while True:\n",
    "    for new in news:\n",
    "        try:\n",
    "            date=new.find_element(By.XPATH,'./div[1]/div[2]/div[2]/span[2]').text\n",
    "        except:\n",
    "            date=''\n",
    "\n",
    "        first=new.find_element(By.XPATH,'.//h3[@class=\"Mb(5px)\"]').text\n",
    "        try:\n",
    "            second=new.find_element(By.XPATH,'.//li[1]//div[@class=\"Ov(h)\"]/div[1]').text\n",
    "        except:\n",
    "            second=''\n",
    "        try:\n",
    "            third=new.find_element(By.XPATH,'.//li[2]//div[@class=\"Ov(h)\"]/div[1]').text\n",
    "        except:\n",
    "            third=''\n",
    "        if date not in date_list:\n",
    "            date_list.append(date)\n",
    "        if first not in first_list:\n",
    "            first_list.append(first)\n",
    "        if second not in second_list:\n",
    "            second_list.append(second)\n",
    "        if third not in third_list:\n",
    "            third_list.append(third)\n",
    "        \n",
    "    driver.execute_script(\"window.scrollBy(0,780)\",\"\")\n",
    "    #time.sleep(1)\n",
    "    curr_position = driver.execute_script(\"return window.pageYOffset;\")\n",
    "    if last_position == curr_position:\n",
    "        break\n",
    "    last_position=curr_position\n",
    "    news=driver.find_elements(By.XPATH,'//div[@data-test-locator=\"mega\"]')\n"
   ]
  },
  {
   "cell_type": "code",
   "execution_count": 53,
   "id": "80da4062",
   "metadata": {},
   "outputs": [
    {
     "data": {
      "text/plain": [
       "4"
      ]
     },
     "execution_count": 53,
     "metadata": {},
     "output_type": "execute_result"
    }
   ],
   "source": [
    "len(date_list)"
   ]
  },
  {
   "cell_type": "code",
   "execution_count": 55,
   "id": "4cdfc1b1",
   "metadata": {},
   "outputs": [
    {
     "name": "stdout",
     "output_type": "stream",
     "text": [
      "168\n",
      "43\n",
      "49\n"
     ]
    }
   ],
   "source": [
    "print(len(first_list))\n",
    "print(len(second_list))\n",
    "print(len(third_list))\n"
   ]
  },
  {
   "cell_type": "code",
   "execution_count": 56,
   "id": "fb59ea72",
   "metadata": {},
   "outputs": [
    {
     "data": {
      "text/plain": [
       "['Facebook has another reason to worry about TikTok after new teen survey',\n",
       " 'Tesla stock under pressure after Elon Musk becomes Twitter activist investor',\n",
       " \"How Tesla CEO Elon Musk's Twitter stake could affect his legal battles with SEC\",\n",
       " 'Why Elon Musk’s Twitter Move Isn’t a Sure Winner',\n",
       " 'Elon Musk Risks New SEC Fight on Disclosure After Speedy Twitter Rise',\n",
       " 'IEA Nations Add 60 Million Barrels to U.S. Oil-Stock Release',\n",
       " \"Why Elon Musk Can Change Twitter, But Can't Take it Over (Just Yet)\",\n",
       " 'Elon Musk has already made more than $1 billion on his Twitter stock',\n",
       " \"Here's What Elon Musk's Twitter Could Look Like\",\n",
       " 'Dell, HP Shares Hit by Growth Worry as Fed Tightening Looms',\n",
       " 'Poland Raises Key Rate More Than Expected to 4.5% After Inflation Surge',\n",
       " \"Elon Musk U-Turns on Twitter, Concedes 'Active' $3.7 Billion Stake\",\n",
       " 'Twitter Tests Edit Button, Says Work Began Before Musk Poll',\n",
       " 'Elon Musk, Twitter’s largest single shareholder and board member, pledges ‘significant improvements.’ Will Tesla’s founder attempt to change how you tweet?',\n",
       " 'Twitter Is Developing an ‘Edit’ Feature. The Work Began Before Elon Musk’s Poll.',\n",
       " 'Pinterest’s ban on climate change misinformation goes further than any other major social platform',\n",
       " 'Twitter Stock Had Its Run-up. That Doesn’t Mean Elon Musk Won’t Send It Full Meme.',\n",
       " 'The Lex Newsletter: here comes Elon, Twitter edition',\n",
       " 'Twitter Restricts Russian State Media Accounts, Prisoner Of War Content',\n",
       " \"Analysis-Musk's Twitter bet gins up meme stock hype\",\n",
       " 'What the Fed Minutes Will Tell Us About the Next Bond Inversion',\n",
       " 'Musk and Twitter: the timeline',\n",
       " 'Twitch’s New Star of Streaming Charts Is Anime Avatar Ironmouse',\n",
       " 'Twitter Restricts Russian Accounts, Bars Prisoner-of-War Content',\n",
       " 'Twitter Rival in India Tests Giving Users Power to Self-Verify',\n",
       " 'Elon Musk’s Stake in Twitter Isn’t ‘Passive’ Anymore. What That Means for the Stock.',\n",
       " 'Twitter is working on edit button to let users fix errors in posts, company confirms',\n",
       " 'Elon Musk: a new kind of media baron charges into Twitter',\n",
       " 'DOGE Jumps 16%, with SHIB also on the Move in a Bearish Crypto Session',\n",
       " 'Top Stock Picks for Week of April 4, 2022',\n",
       " 'Should You Follow Elon Musk Into Twitter Stock? Wells Fargo Weighs In',\n",
       " 'Elon Musk to Join Twitter’s Board of Directors After Becoming Largest Shareholder',\n",
       " 'Musk Refiles Twitter Disclosure to Show He’s an Active Investor',\n",
       " 'Elon Musk Promises Significant Changes at Twitter',\n",
       " 'Elon Musk admits his Twitter investment isn’t passive and reveals that he began buying the stock in January',\n",
       " 'UPDATE 2-Twitter to start testing long-awaited edit feature in coming months',\n",
       " 'Twitter to start testing long-awaited edit feature in coming months',\n",
       " 'Trump supporters want Elon Musk to push Twitter’s board to reinstate the former president’s account',\n",
       " 'As Elon Musk Joins Twitter Board, Will He Bring Solutions Or Problems?',\n",
       " 'Top 5 Twitter Shareholders',\n",
       " 'Dow Jones Falls; Donald Trump SPAC Plunges As Elon Musk Joins Twitter Board; 3 Stocks Eye Buy Points',\n",
       " 'Jack Dorsey Has a Message That Will Make Elon Musk Very Happy',\n",
       " 'Elon Musk Has Tesla, SpaceX, and Now Twitter. How He’ll Manage It All.',\n",
       " \"Column: Elon Musk's stake in Twitter is not good news for Twitter — or its users\",\n",
       " 'Musk Gets Twitter Board Seat After Stake-Purchase Surprise',\n",
       " 'GM and Honda promise affordable EVs, Block shares sink after data breach, SBFM stock booms',\n",
       " 'What to expect from Twitter after Musk joins board: Analyst',\n",
       " 'Twitter’s stock is not out of the technical woods yet, even after record rally',\n",
       " 'Stocks fall as investors brace for more EU sanctions on Russia',\n",
       " 'Dow Jones Turns Lower As Stock Indexes Pull Back; Twitter Stock Up As Elon Musk Joins Board Of Directors',\n",
       " \"Elon Musk joining Twitter board doesn't make it better than Snap: analyst\",\n",
       " 'Why Tesla Stock Braked Hard Today',\n",
       " 'Elon Musk joins Twitter board after buying huge stake in company',\n",
       " 'Elon Musk Named to Twitter’s Board. He Can’t Own More Than 14.9% of the Stock.',\n",
       " 'Elon Musk Gives Twitter Its Best Day Ever. This Analyst Downgraded the Stock Anyway.',\n",
       " 'Twitter put Elon Musk on the board so he wouldn’t pull another Tesla',\n",
       " \"Tesla's CEO, Elon Musk, Appointed to Twitter's Board of Directors\",\n",
       " 'Russian Diplomatic Expulsions Exceed 200 in EU Amid Outrage',\n",
       " \"Twitter 'is like beaming your dad's Oldsmobile,' it's not like Tesla: analyst\",\n",
       " 'EU Kickstarts Process to Deny Hungary Funds Over Rule of Law',\n",
       " 'Google Paper Cites Research at Center of Its Staff Firestorm',\n",
       " 'Twitter to stop amplifying Russian government accounts along with other major changes',\n",
       " \"Twitter won't recommend Russia govt accounts, will prohibit some POW content\",\n",
       " 'Stock Market Lower As Benchmark Yield Jumps; This IBD 50 Stock Triggers Sell Signal',\n",
       " 'Breaking: Elon Musk Joins Twitter Board After Becoming Its Largest Shareholder',\n",
       " 'Elon Musk Buys 9.2% of Twitter; Is the Stock Still Undervalued?',\n",
       " 'Twitter stock jumps after Tesla CEO Elon Musk invited to board',\n",
       " 'Trade Deficit for February Almost Held Constant',\n",
       " 'Why Shares of Twitter Are Rising Today',\n",
       " 'For Twitter’s newest board member, an edit button is no joke',\n",
       " 'Elon Musk to join Twitter board',\n",
       " 'Twitter stock rallies again after Tesla chief Elon Musk is named to its board',\n",
       " \"Musk's Advance on Twitter (TWTR) Continues\",\n",
       " 'Cathie Wood’s ARKK ETF hemorrhaged 29.9% in Q1',\n",
       " 'Market check: Stocks mixed in early trading, Chinese ADRs retreat, cruise lines in the green',\n",
       " 'Can Elon Musk really make a Twitter edit button happen?',\n",
       " 'Twitter stock surged more than 20% for just the 4th time in company history on Monday',\n",
       " 'Tesla CEO Elon Musk ‘a huge addition’ to Twitter’s board: Analyst',\n",
       " 'Tesla CEO Elon Musk could cause potential Twitter shakeup, Cathie Wood says',\n",
       " 'Elon Musk asks Twitter users to vote on changes to the site after becoming largest shareholder',\n",
       " \"Elon Musk joins Twitter's board of directors after acquiring 9% stake\",\n",
       " 'Twitter appoints Elon Musk to board',\n",
       " 'Musk’s Twitter Fans Find Value Analysts Don’t See',\n",
       " 'Twitter to appoint Tesla CEO Elon Musk to board of directors',\n",
       " 'Musk Makes a Decision That an Important Regulator Might Not Like',\n",
       " 'Strength Seen in Twitter (TWTR): Can Its 27.1% Jump Turn into More Strength?',\n",
       " 'Twitter Stock Extends Surge As Tesla CEO Elon Musk Wins Board Seat',\n",
       " 'Twitter Names Elon Musk to Board, Caps Billionaire’s Ownership Stake',\n",
       " 'Musk to join Twitter board, promises change',\n",
       " 'UPDATE 2-Twitter to name top shareholder Musk to board',\n",
       " 'Tesla’s Elon Musk Gets Right to Work Flexing His Muscles at Twitter',\n",
       " 'Midday Stock Movers: System1 Surges, Qualcomm and Peloton Decline',\n",
       " 'The Hottest NFT Marketplace is Mostly Users Selling to Themselves',\n",
       " 'Dow Jones Futures: Apple Retakes Entry, Tesla Eyes Buy Point And Twitter Soars On Musk Stake',\n",
       " 'Twitter stock has overreacted to Elon Musk taking a 9.2% stake, analyst says',\n",
       " 'Elon Musk Is Already Dropping Hints on His Plans for Twitter. So Much for ‘Passive.’',\n",
       " 'Elon Musk reveals ‘single most annoying problem’ with Twitter',\n",
       " 'Is Twitter Stock a Buy?',\n",
       " \"Analysis-Tesla's Musk may add to U.S. SEC ire with late report about Twitter stake\",\n",
       " 'Stocks Edge Lower, Oil Climbs, Twitter, Tesla And Kansas Wins - Five Things You Must Know',\n",
       " 'Stocks of the Week: Twitter, Starbucks, BlackBerry',\n",
       " 'Twitter Soars Again as CEO Agrawal Welcomes Musk to Board',\n",
       " 'Musk, Twitter CEO Wade Straight Into Old Debate Over Edit Button',\n",
       " 'European markets mixed as Brussels targets Russian coal imports in new sanctions',\n",
       " 'Dow Futures Down 90 Pts; Services PMI Data, Twitter in Focus',\n",
       " 'Ukraine Update: Zelenskiy to Address UN Body; China Holds Talks',\n",
       " 'Elon Musk asked Twitter users if they wanted an ‘edit’ button. An overwhelming majority said yes.',\n",
       " 'The ESG zeitgeist',\n",
       " 'Musk’s ‘Passive’ Twitter Stake Starts With Poll on Edit Button',\n",
       " \"Elon Musk 'Playing Monopoly in Real Life' With First Twitter Message\",\n",
       " 'Elon Musk Starts Throwing His Weight Around at Twitter',\n",
       " 'Musk Polls Twitter Users on Edit Button After Taking 9.2% Stake',\n",
       " \"Elon Musk is Now Twitter's Biggest Shareholder\",\n",
       " 'Musk Bought, but Twitter (NYSE:TWTR) is Still Difficult to Value on an Intrinsic Basis',\n",
       " 'Twitter Stock Had Its Best Day Ever, Thanks to Elon Musk. What Comes Next?',\n",
       " \"Twitter's Value Takes Flight as Elon Musk Declares Stake\",\n",
       " 'Cathie Wood Sees Potential for Twitter Shakeup After Musk Takes Stake',\n",
       " 'Elon Musk Sees Billion Dollar Payday at Twitter',\n",
       " 'Elon Musk Brings Money, and Some Oomph, to U.S. Stock Markets',\n",
       " \"Let the Musk-Twitter ‘soap opera’ begin. Here's what you need to know.\",\n",
       " 'Twitter worth $8.5 billion more after Elon Musk’s investment sends stock on record run',\n",
       " 'Tesla CEO Elon Musk Acquires 9.2% Stake in Twitter',\n",
       " 'Analyst on Elon Musk’s Twitter stake: ‘Clearly a lot of it is driven by his personal feelings’',\n",
       " 'Why Elon Musk spent $3bn on a slice of Twitter',\n",
       " 'Home prices are ‘getting so out ahead of the ability to purchase them’: Strategist',\n",
       " \"What to Make of Elon Musk's Twitter Investment\",\n",
       " 'US STOCKS-Tech, megacap growth shares boost Wall St; Twitter surges',\n",
       " 'Tesla Stock Races Ahead On Strong Deliveries; Startup Rival Polestar Partners With Hertz',\n",
       " 'Trump-Tied Social Media SPAC Slides After Key Executives Quit',\n",
       " 'Elon Musk Signals Desire For His Own Media Platform With Twitter Stake',\n",
       " 'US STOCKS-S&P 500 rises on megacap stock boost, Twitter surge',\n",
       " 'Twitter stock soars on news of Elon Musk stake',\n",
       " 'Stocks rise as European Union eyes more sanctions against Russia',\n",
       " 'Dow Jones Gains; Twitter Stock Explodes As Elon Musk Invests; Donald Trump SPAC Plummets',\n",
       " 'Why Dogecoin Popped and Then Dropped Today',\n",
       " 'Tesla Stock Alert: Can Shares Get Back to All-time Highs?',\n",
       " 'Jack Dorsey says he’s ‘partially to blame’ for centralization of the Internet',\n",
       " 'US STOCKS-Wall St climbs as megacap growth stocks gain, Twitter surges',\n",
       " 'Musk’s Twitter play explained in tweets',\n",
       " \"Trump Media SPAC Skids After Musk's Twitter Buy, Top Execs Exit\",\n",
       " 'TIMELINE-Elon Musk takes a dig at Twitter, Web3 and NFTs, on Twitter',\n",
       " 'Elon Musk buys huge stake in Twitter',\n",
       " \"Musk’s Stake in Twitter Stock: Coup … or Coup d'Etat?\",\n",
       " \"Is Twitter Stock a Buy With Tesla's Elon Musk Involved?\",\n",
       " 'The brakes on electric production',\n",
       " 'Elon Musk’s tweets about Twitter offer clue to why he bought major stake in company',\n",
       " 'US STOCKS-S&P 500, Nasdaq climb as growth stocks, Twitter jump',\n",
       " 'Elon Musk may gain a board seat at Twitter as his investment will ‘kick off a soap opera’ and maybe an activist play, top Wedbush tech analyst says',\n",
       " \"Twitter options trades ahead of Musk disclosure raise analysts' eyebrows\",\n",
       " 'Two Truth Social execs quit as Trump’s social media app struggles to take off: report',\n",
       " \"Elon Musk stake in Twitter 'just the appetizer,' Wedbush's Dan Ives says\",\n",
       " 'Elon Musk Takes 9.2% Stake in Twitter After Hinting at Shake-Up',\n",
       " 'Stock Market Gains, Led By Tech; Musk Announces 9% Stake In Twitter',\n",
       " 'Posting, pronouns, and ‘pedo guy’: A history of Elon Musk’s strange relationship with Twitter',\n",
       " 'Stock Market Today: Dow Ends Higher as Twitter Surge Keeps Tech in Vogue',\n",
       " 'Breaking: Dogecoin Was Up 9% on News Elon Musk Took a 9.2% Stake in Twitter',\n",
       " 'Elon Musk Makes a Bold Move That May Change Twitter Forever',\n",
       " 'Tesla CEO Elon Musk sees Twitter as ‘an undervalued platform,’ analyst says',\n",
       " 'Dogecoin spikes 10% as Elon Musk takes an almost $3 billion stake in Twitter',\n",
       " \"What would free speech look like on Elon Musk's Twitter?\",\n",
       " 'Why Twitter Stock Exploded Higher Monday',\n",
       " 'Elon Musk added 20% to Twitter’s worth in one day. Here are other assets he’s either sparked or sunk with his tweets',\n",
       " 'S&P 500 Advances as Twitter Leads Tech Higher',\n",
       " 'Why Shares of Digital World Acquisition Are Falling Today',\n",
       " 'Elon Musk Just Bought a Big Stake in Twitter Stock. Could He Take It Private?',\n",
       " 'Earnings Data to Deluge Next Week',\n",
       " 'US STOCKS-Nasdaq, S&P 500 climb as growth stocks, Twitter jump',\n",
       " \"Twitter Reacts to Elon Musk's Stake in The Social Media Platform\"]"
      ]
     },
     "execution_count": 56,
     "metadata": {},
     "output_type": "execute_result"
    }
   ],
   "source": [
    "first_list"
   ]
  },
  {
   "cell_type": "code",
   "execution_count": null,
   "id": "b551b2cd",
   "metadata": {},
   "outputs": [],
   "source": []
  }
 ],
 "metadata": {
  "kernelspec": {
   "display_name": "Python 3 (ipykernel)",
   "language": "python",
   "name": "python3"
  },
  "language_info": {
   "codemirror_mode": {
    "name": "ipython",
    "version": 3
   },
   "file_extension": ".py",
   "mimetype": "text/x-python",
   "name": "python",
   "nbconvert_exporter": "python",
   "pygments_lexer": "ipython3",
   "version": "3.9.7"
  }
 },
 "nbformat": 4,
 "nbformat_minor": 5
}
