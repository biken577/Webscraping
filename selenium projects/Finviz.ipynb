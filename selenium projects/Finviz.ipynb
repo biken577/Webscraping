{
 "cells": [
  {
   "cell_type": "code",
   "execution_count": 22,
   "id": "64742fe0",
   "metadata": {},
   "outputs": [],
   "source": [
    "#selenium imports\n",
    "from selenium import webdriver\n",
    "from selenium.webdriver.common.keys import Keys\n",
    "from selenium.webdriver.support import expected_conditions as EC\n",
    "from selenium.webdriver.common.by import By\n",
    "from selenium.webdriver.support.wait import WebDriverWait\n",
    "#from selenium.webdriver.chrome.options import Options\n",
    "#chrome_options = Options()\n",
    "#chrome_options.add_argument(\"--headless\")\n",
    "#driver = webdriver.Chrome(options=chrome_options)\n",
    "\n",
    "import pandas as pd"
   ]
  },
  {
   "cell_type": "code",
   "execution_count": 23,
   "id": "02a753af",
   "metadata": {},
   "outputs": [],
   "source": [
    "#other imports\n",
    "import os\n",
    "import wget\n",
    "import time"
   ]
  },
  {
   "cell_type": "code",
   "execution_count": 32,
   "id": "9bd03e21",
   "metadata": {},
   "outputs": [
    {
     "name": "stderr",
     "output_type": "stream",
     "text": [
      "/var/folders/0d/2q3_g9bj7tn1m1t1w5crmtvh0000gn/T/ipykernel_2794/1576972547.py:1: DeprecationWarning: executable_path has been deprecated, please pass in a Service object\n",
      "  driver=webdriver.Chrome('/usr/local/bin/chromedriver')\n"
     ]
    }
   ],
   "source": [
    "driver=webdriver.Chrome('/usr/local/bin/chromedriver')\n",
    "#driver = webdriver.Chrome('/usr/local/bin/chromedriver',options=chrome_options)"
   ]
  },
  {
   "cell_type": "code",
   "execution_count": 33,
   "id": "d44c1158",
   "metadata": {},
   "outputs": [
    {
     "ename": "TypeError",
     "evalue": "'WebElement' object is not iterable",
     "output_type": "error",
     "traceback": [
      "\u001b[0;31m---------------------------------------------------------------------------\u001b[0m",
      "\u001b[0;31mTypeError\u001b[0m                                 Traceback (most recent call last)",
      "\u001b[0;32m/var/folders/0d/2q3_g9bj7tn1m1t1w5crmtvh0000gn/T/ipykernel_2794/4201349261.py\u001b[0m in \u001b[0;36m<module>\u001b[0;34m\u001b[0m\n\u001b[1;32m      6\u001b[0m     \u001b[0mdriver\u001b[0m\u001b[0;34m.\u001b[0m\u001b[0mget\u001b[0m\u001b[0;34m(\u001b[0m\u001b[0;34m'https://finviz.com/screener.ashx?v=111&f=sec_energy'\u001b[0m\u001b[0;34m)\u001b[0m\u001b[0;34m\u001b[0m\u001b[0;34m\u001b[0m\u001b[0m\n\u001b[1;32m      7\u001b[0m     \u001b[0mtable\u001b[0m\u001b[0;34m=\u001b[0m\u001b[0mdriver\u001b[0m\u001b[0;34m.\u001b[0m\u001b[0mfind_element\u001b[0m\u001b[0;34m(\u001b[0m\u001b[0mBy\u001b[0m\u001b[0;34m.\u001b[0m\u001b[0mXPATH\u001b[0m\u001b[0;34m,\u001b[0m\u001b[0;34m\"//table/tbody\"\u001b[0m\u001b[0;34m)\u001b[0m\u001b[0;34m\u001b[0m\u001b[0;34m\u001b[0m\u001b[0m\n\u001b[0;32m----> 8\u001b[0;31m     \u001b[0;32mfor\u001b[0m \u001b[0mitems\u001b[0m \u001b[0;32min\u001b[0m \u001b[0mtable\u001b[0m\u001b[0;34m:\u001b[0m\u001b[0;34m\u001b[0m\u001b[0;34m\u001b[0m\u001b[0m\n\u001b[0m\u001b[1;32m      9\u001b[0m         \u001b[0mpercent_change\u001b[0m\u001b[0;34m=\u001b[0m\u001b[0mitems\u001b[0m\u001b[0;34m.\u001b[0m\u001b[0mfind_element\u001b[0m\u001b[0;34m(\u001b[0m\u001b[0mBy\u001b[0m\u001b[0;34m.\u001b[0m\u001b[0mXPATH\u001b[0m\u001b[0;34m,\u001b[0m\u001b[0;34m'//table/tbody/tr[2]/td[10]/a/span'\u001b[0m\u001b[0;34m)\u001b[0m\u001b[0;34m.\u001b[0m\u001b[0mtext\u001b[0m\u001b[0;34m\u001b[0m\u001b[0;34m\u001b[0m\u001b[0m\n\u001b[1;32m     10\u001b[0m         \u001b[0mticker\u001b[0m\u001b[0;34m=\u001b[0m\u001b[0mitems\u001b[0m\u001b[0;34m.\u001b[0m\u001b[0mfind_element\u001b[0m\u001b[0;34m(\u001b[0m\u001b[0mBy\u001b[0m\u001b[0;34m.\u001b[0m\u001b[0mXPATH\u001b[0m\u001b[0;34m,\u001b[0m\u001b[0;34m'//table/tbody/tr[2]/td[2]/a'\u001b[0m\u001b[0;34m)\u001b[0m\u001b[0;34m.\u001b[0m\u001b[0mtext\u001b[0m\u001b[0;34m\u001b[0m\u001b[0;34m\u001b[0m\u001b[0m\n",
      "\u001b[0;31mTypeError\u001b[0m: 'WebElement' object is not iterable"
     ]
    }
   ],
   "source": [
    "base_url=\"https://finviz.com/screener.ashx?v=111&f=sec_\"\n",
    "list_sectors=['basicmaterials','communicationservices','consumercyclical','consumerdefensive','energy','financial','healthcare','industrials','realestate','technology','utilities']\n",
    "\n",
    "for sector in list_sectors:\n",
    "    #driver.get(base_url+sector)\n",
    "    driver.get('https://finviz.com/screener.ashx?v=111&f=sec_energy')\n",
    "    table=driver.find_element(By.XPATH,\"//table/tbody\")\n",
    "    for items in table:\n",
    "        percent_change=items.find_element(By.XPATH,'//table/tbody/tr[2]/td[10]/a/span').text\n",
    "        ticker=items.find_element(By.XPATH,'//table/tbody/tr[2]/td[2]/a').text\n",
    "        name=items.find_element(By.XPATH,'//table/tbody/tr[2]/td[3]/a').text\n",
    "        \n",
    "        \n",
    "    "
   ]
  },
  {
   "cell_type": "code",
   "execution_count": null,
   "id": "55290e1a",
   "metadata": {},
   "outputs": [],
   "source": [
    "//table/tbody/tr[2]/td[10]/a/span\n",
    "//table/tbody/tr[2]/td[2]/a\n",
    "//table/tbody/tr[2]/td[3]/a"
   ]
  },
  {
   "cell_type": "code",
   "execution_count": 34,
   "id": "4e1e8fc2",
   "metadata": {},
   "outputs": [],
   "source": [
    "driver.get('https://finviz.com/screener.ashx?v=111&f=sec_energy')"
   ]
  },
  {
   "cell_type": "code",
   "execution_count": 35,
   "id": "faa1f45c",
   "metadata": {},
   "outputs": [
    {
     "data": {
      "text/plain": [
       "'https://finviz.com/screener.ashx?v=111&f=sec_energy'"
      ]
     },
     "execution_count": 35,
     "metadata": {},
     "output_type": "execute_result"
    }
   ],
   "source": [
    "driver.current_url"
   ]
  },
  {
   "cell_type": "code",
   "execution_count": 36,
   "id": "a2904b3a",
   "metadata": {},
   "outputs": [
    {
     "name": "stdout",
     "output_type": "stream",
     "text": [
      "-4.09\n",
      "AE\n",
      "Adams Resources & Energy, Inc.\n",
      "1.29\n",
      "AM\n",
      "Antero Midstream Corporation\n",
      "-1.47\n",
      "AMPY\n",
      "Amplify Energy Corp.\n",
      "-2.36\n",
      "AMTX\n",
      "Aemetis, Inc.\n",
      "2.06\n",
      "APA\n",
      "APA Corporation\n",
      "0.31\n",
      "AR\n",
      "Antero Resources Corporation\n",
      "-1.40\n",
      "ARCH\n",
      "Arch Resources, Inc.\n",
      "-0.65\n",
      "AREC\n",
      "American Resources Corporation\n",
      "-0.26\n",
      "ARLP\n",
      "Alliance Resource Partners, L.P.\n",
      "1.10\n",
      "AROC\n",
      "Archrock, Inc.\n",
      "0.14\n",
      "ASC\n",
      "Ardmore Shipping Corporation\n",
      "-3.14\n",
      "BATL\n",
      "Battalion Oil Corporation\n",
      "0.22\n",
      "BKEP\n",
      "Blueknight Energy Partners, L.P.\n",
      "-1.20\n",
      "BKR\n",
      "Baker Hughes Company\n",
      "4.33\n",
      "BOOM\n",
      "DMC Global Inc.\n",
      "-8.83\n",
      "BORR\n",
      "Borr Drilling Limited\n",
      "0.81\n",
      "BP\n",
      "BP p.l.c.\n",
      "-0.37\n",
      "BPT\n",
      "BP Prudhoe Bay Royalty Trust\n",
      "-3.97\n",
      "BRN\n",
      "Barnwell Industries, Inc.\n",
      "0.14\n",
      "BROG\n",
      "Brooge Energy Limited\n"
     ]
    },
    {
     "ename": "ElementClickInterceptedException",
     "evalue": "Message: element click intercepted: Element <a href=\"screener.ashx?v=111&amp;f=sec_energy&amp;r=21\" class=\"tab-link\">...</a> is not clickable at point (679, 708). Other element would receive the click: <iframe id=\"google_ads_iframe_/15184186,1055754/finviz_adhesion_0\" name=\"google_ads_iframe_/15184186,1055754/finviz_adhesion_0\" title=\"3rd party ad content\" width=\"728\" height=\"90\" scrolling=\"no\" marginwidth=\"0\" marginheight=\"0\" frameborder=\"0\" role=\"region\" aria-label=\"Advertisement\" tabindex=\"0\" srcdoc=\"\" sandbox=\"allow-forms allow-popups allow-popups-to-escape-sandbox allow-pointer-lock allow-same-origin allow-scripts allow-top-navigation-by-user-activation\" data-google-container-id=\"2\" style=\"border: 0px; vertical-align: bottom;\" data-load-complete=\"true\"></iframe>\n  (Session info: chrome=101.0.4951.64)\nStacktrace:\n0   chromedriver                        0x000000010119fc34 chromedriver + 4406324\n1   chromedriver                        0x0000000101139290 chromedriver + 3986064\n2   chromedriver                        0x0000000100d9a84c chromedriver + 190540\n3   chromedriver                        0x0000000100dcf908 chromedriver + 407816\n4   chromedriver                        0x0000000100dcdb54 chromedriver + 400212\n5   chromedriver                        0x0000000100dcb984 chromedriver + 391556\n6   chromedriver                        0x0000000100dcaa10 chromedriver + 387600\n7   chromedriver                        0x0000000100dc0180 chromedriver + 344448\n8   chromedriver                        0x0000000100dbfb6c chromedriver + 342892\n9   chromedriver                        0x0000000100df26e0 chromedriver + 550624\n10  chromedriver                        0x0000000100dbe864 chromedriver + 338020\n11  chromedriver                        0x0000000101165320 chromedriver + 4166432\n12  chromedriver                        0x000000010117a748 chromedriver + 4253512\n13  chromedriver                        0x000000010117ecbc chromedriver + 4271292\n14  chromedriver                        0x000000010117b004 chromedriver + 4255748\n15  chromedriver                        0x000000010115b08c chromedriver + 4124812\n16  chromedriver                        0x0000000101192bf8 chromedriver + 4353016\n17  chromedriver                        0x0000000101192d5c chromedriver + 4353372\n18  chromedriver                        0x00000001011a6438 chromedriver + 4432952\n19  libsystem_pthread.dylib             0x00000001957c226c _pthread_start + 148\n20  libsystem_pthread.dylib             0x00000001957bd08c thread_start + 8\n",
     "output_type": "error",
     "traceback": [
      "\u001b[0;31m---------------------------------------------------------------------------\u001b[0m",
      "\u001b[0;31mElementClickInterceptedException\u001b[0m          Traceback (most recent call last)",
      "\u001b[0;32m/var/folders/0d/2q3_g9bj7tn1m1t1w5crmtvh0000gn/T/ipykernel_2794/4190903133.py\u001b[0m in \u001b[0;36m<module>\u001b[0;34m\u001b[0m\n\u001b[1;32m     13\u001b[0m         \u001b[0;32mbreak\u001b[0m\u001b[0;34m\u001b[0m\u001b[0;34m\u001b[0m\u001b[0m\n\u001b[1;32m     14\u001b[0m     \u001b[0;31m#time.sleep(10)\u001b[0m\u001b[0;34m\u001b[0m\u001b[0;34m\u001b[0m\u001b[0m\n\u001b[0;32m---> 15\u001b[0;31m     \u001b[0mdriver\u001b[0m\u001b[0;34m.\u001b[0m\u001b[0mfind_element\u001b[0m\u001b[0;34m(\u001b[0m\u001b[0mBy\u001b[0m\u001b[0;34m.\u001b[0m\u001b[0mXPATH\u001b[0m\u001b[0;34m,\u001b[0m\u001b[0;34m'//a[b[text()=\"next\"]]'\u001b[0m\u001b[0;34m)\u001b[0m\u001b[0;34m.\u001b[0m\u001b[0mclick\u001b[0m\u001b[0;34m(\u001b[0m\u001b[0;34m)\u001b[0m\u001b[0;34m\u001b[0m\u001b[0;34m\u001b[0m\u001b[0m\n\u001b[0m\u001b[1;32m     16\u001b[0m     \u001b[0;31m#WebDriverWait(driver,20).until(EC.element_to_be_clickable((By.XPATH, '//a[b[text()=\"next\"]]'))).click()\u001b[0m\u001b[0;34m\u001b[0m\u001b[0;34m\u001b[0m\u001b[0m\n\u001b[1;32m     17\u001b[0m \u001b[0;34m\u001b[0m\u001b[0m\n",
      "\u001b[0;32m~/opt/anaconda3/lib/python3.9/site-packages/selenium/webdriver/remote/webelement.py\u001b[0m in \u001b[0;36mclick\u001b[0;34m(self)\u001b[0m\n\u001b[1;32m     79\u001b[0m     \u001b[0;32mdef\u001b[0m \u001b[0mclick\u001b[0m\u001b[0;34m(\u001b[0m\u001b[0mself\u001b[0m\u001b[0;34m)\u001b[0m \u001b[0;34m->\u001b[0m \u001b[0;32mNone\u001b[0m\u001b[0;34m:\u001b[0m\u001b[0;34m\u001b[0m\u001b[0;34m\u001b[0m\u001b[0m\n\u001b[1;32m     80\u001b[0m         \u001b[0;34m\"\"\"Clicks the element.\"\"\"\u001b[0m\u001b[0;34m\u001b[0m\u001b[0;34m\u001b[0m\u001b[0m\n\u001b[0;32m---> 81\u001b[0;31m         \u001b[0mself\u001b[0m\u001b[0;34m.\u001b[0m\u001b[0m_execute\u001b[0m\u001b[0;34m(\u001b[0m\u001b[0mCommand\u001b[0m\u001b[0;34m.\u001b[0m\u001b[0mCLICK_ELEMENT\u001b[0m\u001b[0;34m)\u001b[0m\u001b[0;34m\u001b[0m\u001b[0;34m\u001b[0m\u001b[0m\n\u001b[0m\u001b[1;32m     82\u001b[0m \u001b[0;34m\u001b[0m\u001b[0m\n\u001b[1;32m     83\u001b[0m     \u001b[0;32mdef\u001b[0m \u001b[0msubmit\u001b[0m\u001b[0;34m(\u001b[0m\u001b[0mself\u001b[0m\u001b[0;34m)\u001b[0m\u001b[0;34m:\u001b[0m\u001b[0;34m\u001b[0m\u001b[0;34m\u001b[0m\u001b[0m\n",
      "\u001b[0;32m~/opt/anaconda3/lib/python3.9/site-packages/selenium/webdriver/remote/webelement.py\u001b[0m in \u001b[0;36m_execute\u001b[0;34m(self, command, params)\u001b[0m\n\u001b[1;32m    708\u001b[0m             \u001b[0mparams\u001b[0m \u001b[0;34m=\u001b[0m \u001b[0;34m{\u001b[0m\u001b[0;34m}\u001b[0m\u001b[0;34m\u001b[0m\u001b[0;34m\u001b[0m\u001b[0m\n\u001b[1;32m    709\u001b[0m         \u001b[0mparams\u001b[0m\u001b[0;34m[\u001b[0m\u001b[0;34m'id'\u001b[0m\u001b[0;34m]\u001b[0m \u001b[0;34m=\u001b[0m \u001b[0mself\u001b[0m\u001b[0;34m.\u001b[0m\u001b[0m_id\u001b[0m\u001b[0;34m\u001b[0m\u001b[0;34m\u001b[0m\u001b[0m\n\u001b[0;32m--> 710\u001b[0;31m         \u001b[0;32mreturn\u001b[0m \u001b[0mself\u001b[0m\u001b[0;34m.\u001b[0m\u001b[0m_parent\u001b[0m\u001b[0;34m.\u001b[0m\u001b[0mexecute\u001b[0m\u001b[0;34m(\u001b[0m\u001b[0mcommand\u001b[0m\u001b[0;34m,\u001b[0m \u001b[0mparams\u001b[0m\u001b[0;34m)\u001b[0m\u001b[0;34m\u001b[0m\u001b[0;34m\u001b[0m\u001b[0m\n\u001b[0m\u001b[1;32m    711\u001b[0m \u001b[0;34m\u001b[0m\u001b[0m\n\u001b[1;32m    712\u001b[0m     \u001b[0;32mdef\u001b[0m \u001b[0mfind_element\u001b[0m\u001b[0;34m(\u001b[0m\u001b[0mself\u001b[0m\u001b[0;34m,\u001b[0m \u001b[0mby\u001b[0m\u001b[0;34m=\u001b[0m\u001b[0mBy\u001b[0m\u001b[0;34m.\u001b[0m\u001b[0mID\u001b[0m\u001b[0;34m,\u001b[0m \u001b[0mvalue\u001b[0m\u001b[0;34m=\u001b[0m\u001b[0;32mNone\u001b[0m\u001b[0;34m)\u001b[0m\u001b[0;34m:\u001b[0m\u001b[0;34m\u001b[0m\u001b[0;34m\u001b[0m\u001b[0m\n",
      "\u001b[0;32m~/opt/anaconda3/lib/python3.9/site-packages/selenium/webdriver/remote/webdriver.py\u001b[0m in \u001b[0;36mexecute\u001b[0;34m(self, driver_command, params)\u001b[0m\n\u001b[1;32m    423\u001b[0m         \u001b[0mresponse\u001b[0m \u001b[0;34m=\u001b[0m \u001b[0mself\u001b[0m\u001b[0;34m.\u001b[0m\u001b[0mcommand_executor\u001b[0m\u001b[0;34m.\u001b[0m\u001b[0mexecute\u001b[0m\u001b[0;34m(\u001b[0m\u001b[0mdriver_command\u001b[0m\u001b[0;34m,\u001b[0m \u001b[0mparams\u001b[0m\u001b[0;34m)\u001b[0m\u001b[0;34m\u001b[0m\u001b[0;34m\u001b[0m\u001b[0m\n\u001b[1;32m    424\u001b[0m         \u001b[0;32mif\u001b[0m \u001b[0mresponse\u001b[0m\u001b[0;34m:\u001b[0m\u001b[0;34m\u001b[0m\u001b[0;34m\u001b[0m\u001b[0m\n\u001b[0;32m--> 425\u001b[0;31m             \u001b[0mself\u001b[0m\u001b[0;34m.\u001b[0m\u001b[0merror_handler\u001b[0m\u001b[0;34m.\u001b[0m\u001b[0mcheck_response\u001b[0m\u001b[0;34m(\u001b[0m\u001b[0mresponse\u001b[0m\u001b[0;34m)\u001b[0m\u001b[0;34m\u001b[0m\u001b[0;34m\u001b[0m\u001b[0m\n\u001b[0m\u001b[1;32m    426\u001b[0m             response['value'] = self._unwrap_value(\n\u001b[1;32m    427\u001b[0m                 response.get('value', None))\n",
      "\u001b[0;32m~/opt/anaconda3/lib/python3.9/site-packages/selenium/webdriver/remote/errorhandler.py\u001b[0m in \u001b[0;36mcheck_response\u001b[0;34m(self, response)\u001b[0m\n\u001b[1;32m    245\u001b[0m                 \u001b[0malert_text\u001b[0m \u001b[0;34m=\u001b[0m \u001b[0mvalue\u001b[0m\u001b[0;34m[\u001b[0m\u001b[0;34m'alert'\u001b[0m\u001b[0;34m]\u001b[0m\u001b[0;34m.\u001b[0m\u001b[0mget\u001b[0m\u001b[0;34m(\u001b[0m\u001b[0;34m'text'\u001b[0m\u001b[0;34m)\u001b[0m\u001b[0;34m\u001b[0m\u001b[0;34m\u001b[0m\u001b[0m\n\u001b[1;32m    246\u001b[0m             \u001b[0;32mraise\u001b[0m \u001b[0mexception_class\u001b[0m\u001b[0;34m(\u001b[0m\u001b[0mmessage\u001b[0m\u001b[0;34m,\u001b[0m \u001b[0mscreen\u001b[0m\u001b[0;34m,\u001b[0m \u001b[0mstacktrace\u001b[0m\u001b[0;34m,\u001b[0m \u001b[0malert_text\u001b[0m\u001b[0;34m)\u001b[0m  \u001b[0;31m# type: ignore[call-arg]  # mypy is not smart enough here\u001b[0m\u001b[0;34m\u001b[0m\u001b[0;34m\u001b[0m\u001b[0m\n\u001b[0;32m--> 247\u001b[0;31m         \u001b[0;32mraise\u001b[0m \u001b[0mexception_class\u001b[0m\u001b[0;34m(\u001b[0m\u001b[0mmessage\u001b[0m\u001b[0;34m,\u001b[0m \u001b[0mscreen\u001b[0m\u001b[0;34m,\u001b[0m \u001b[0mstacktrace\u001b[0m\u001b[0;34m)\u001b[0m\u001b[0;34m\u001b[0m\u001b[0;34m\u001b[0m\u001b[0m\n\u001b[0m\u001b[1;32m    248\u001b[0m \u001b[0;34m\u001b[0m\u001b[0m\n\u001b[1;32m    249\u001b[0m     \u001b[0;32mdef\u001b[0m \u001b[0m_value_or_default\u001b[0m\u001b[0;34m(\u001b[0m\u001b[0mself\u001b[0m\u001b[0;34m,\u001b[0m \u001b[0mobj\u001b[0m\u001b[0;34m:\u001b[0m \u001b[0mMapping\u001b[0m\u001b[0;34m[\u001b[0m\u001b[0m_KT\u001b[0m\u001b[0;34m,\u001b[0m \u001b[0m_VT\u001b[0m\u001b[0;34m]\u001b[0m\u001b[0;34m,\u001b[0m \u001b[0mkey\u001b[0m\u001b[0;34m:\u001b[0m \u001b[0m_KT\u001b[0m\u001b[0;34m,\u001b[0m \u001b[0mdefault\u001b[0m\u001b[0;34m:\u001b[0m \u001b[0m_VT\u001b[0m\u001b[0;34m)\u001b[0m \u001b[0;34m->\u001b[0m \u001b[0m_VT\u001b[0m\u001b[0;34m:\u001b[0m\u001b[0;34m\u001b[0m\u001b[0;34m\u001b[0m\u001b[0m\n",
      "\u001b[0;31mElementClickInterceptedException\u001b[0m: Message: element click intercepted: Element <a href=\"screener.ashx?v=111&amp;f=sec_energy&amp;r=21\" class=\"tab-link\">...</a> is not clickable at point (679, 708). Other element would receive the click: <iframe id=\"google_ads_iframe_/15184186,1055754/finviz_adhesion_0\" name=\"google_ads_iframe_/15184186,1055754/finviz_adhesion_0\" title=\"3rd party ad content\" width=\"728\" height=\"90\" scrolling=\"no\" marginwidth=\"0\" marginheight=\"0\" frameborder=\"0\" role=\"region\" aria-label=\"Advertisement\" tabindex=\"0\" srcdoc=\"\" sandbox=\"allow-forms allow-popups allow-popups-to-escape-sandbox allow-pointer-lock allow-same-origin allow-scripts allow-top-navigation-by-user-activation\" data-google-container-id=\"2\" style=\"border: 0px; vertical-align: bottom;\" data-load-complete=\"true\"></iframe>\n  (Session info: chrome=101.0.4951.64)\nStacktrace:\n0   chromedriver                        0x000000010119fc34 chromedriver + 4406324\n1   chromedriver                        0x0000000101139290 chromedriver + 3986064\n2   chromedriver                        0x0000000100d9a84c chromedriver + 190540\n3   chromedriver                        0x0000000100dcf908 chromedriver + 407816\n4   chromedriver                        0x0000000100dcdb54 chromedriver + 400212\n5   chromedriver                        0x0000000100dcb984 chromedriver + 391556\n6   chromedriver                        0x0000000100dcaa10 chromedriver + 387600\n7   chromedriver                        0x0000000100dc0180 chromedriver + 344448\n8   chromedriver                        0x0000000100dbfb6c chromedriver + 342892\n9   chromedriver                        0x0000000100df26e0 chromedriver + 550624\n10  chromedriver                        0x0000000100dbe864 chromedriver + 338020\n11  chromedriver                        0x0000000101165320 chromedriver + 4166432\n12  chromedriver                        0x000000010117a748 chromedriver + 4253512\n13  chromedriver                        0x000000010117ecbc chromedriver + 4271292\n14  chromedriver                        0x000000010117b004 chromedriver + 4255748\n15  chromedriver                        0x000000010115b08c chromedriver + 4124812\n16  chromedriver                        0x0000000101192bf8 chromedriver + 4353016\n17  chromedriver                        0x0000000101192d5c chromedriver + 4353372\n18  chromedriver                        0x00000001011a6438 chromedriver + 4432952\n19  libsystem_pthread.dylib             0x00000001957c226c _pthread_start + 148\n20  libsystem_pthread.dylib             0x00000001957bd08c thread_start + 8\n"
     ]
    }
   ],
   "source": [
    "#table=driver.find_elements(By.XPATH,'//table[@class=\"table-light\"]//tr')\n",
    "while True:\n",
    "    table=driver.find_elements(By.XPATH,'//table[@class=\"table-light\"]//tr')\n",
    "    for items in table[1:]:\n",
    "        percent_change=items.find_element(By.XPATH,'.//td[10]').text\n",
    "        percent_change=percent_change.replace(\"%\",\"\")\n",
    "        ticker=items.find_element(By.XPATH,'.//td[2]').text\n",
    "        name=items.find_element(By.XPATH,'.//td[3]').text\n",
    "        print(percent_change)\n",
    "        print(ticker)\n",
    "        print(name)\n",
    "    if len(driver.find_elements(By.XPATH,'//*[text()=\"next\"]'))==0:\n",
    "        break\n",
    "    #time.sleep(10)\n",
    "    driver.find_element(By.XPATH,'//a[b[text()=\"next\"]]').click()\n",
    "    #WebDriverWait(driver,20).until(EC.element_to_be_clickable((By.XPATH, '//a[b[text()=\"next\"]]'))).click()\n",
    "\n",
    "    time.sleep(5)\n",
    "    current_url=driver.current_url\n",
    "    print(current_url)\n",
    "    driver.get(current_url)\n",
    "    time.sleep(5)\n",
    "    \n",
    "    \n",
    "    "
   ]
  },
  {
   "cell_type": "code",
   "execution_count": 4,
   "id": "fd95a71a",
   "metadata": {},
   "outputs": [],
   "source": [
    "table=driver.find_elements(By.XPATH,'//table[@class=\"table-light\"]//tr')\n",
    "for row in table[1:]:\n",
    "    percent_change=row.find_element(By.XPATH,'.//td[10]').text\n",
    "    print(percent_change)\n",
    "    "
   ]
  },
  {
   "cell_type": "code",
   "execution_count": 28,
   "id": "add5a325",
   "metadata": {},
   "outputs": [
    {
     "name": "stdout",
     "output_type": "stream",
     "text": [
      "AE\n",
      "Adams Resources & Energy, Inc.\n",
      "-4.09\n",
      "AM\n",
      "Antero Midstream Corporation\n",
      "1.29\n",
      "AMPY\n",
      "Amplify Energy Corp.\n",
      "-1.47\n",
      "AMTX\n",
      "Aemetis, Inc.\n",
      "-2.36\n",
      "APA\n",
      "APA Corporation\n",
      "2.06\n",
      "AR\n",
      "Antero Resources Corporation\n",
      "0.31\n",
      "ARCH\n",
      "Arch Resources, Inc.\n",
      "-1.40\n",
      "AREC\n",
      "American Resources Corporation\n",
      "-0.65\n",
      "ARLP\n",
      "Alliance Resource Partners, L.P.\n",
      "-0.26\n",
      "AROC\n",
      "Archrock, Inc.\n",
      "1.10\n",
      "ASC\n",
      "Ardmore Shipping Corporation\n",
      "0.14\n",
      "BATL\n",
      "Battalion Oil Corporation\n",
      "-3.14\n",
      "BKEP\n",
      "Blueknight Energy Partners, L.P.\n",
      "0.22\n",
      "BKR\n",
      "Baker Hughes Company\n",
      "-1.20\n",
      "BOOM\n",
      "DMC Global Inc.\n",
      "4.33\n",
      "BORR\n",
      "Borr Drilling Limited\n",
      "-8.83\n",
      "BP\n",
      "BP p.l.c.\n",
      "0.81\n",
      "BPT\n",
      "BP Prudhoe Bay Royalty Trust\n",
      "-0.37\n",
      "BRN\n",
      "Barnwell Industries, Inc.\n",
      "-3.97\n",
      "BROG\n",
      "Brooge Energy Limited\n",
      "0.14\n"
     ]
    }
   ],
   "source": [
    "table=driver.find_elements(By.XPATH,'//table[@class=\"table-light\"]//tr')\n",
    "for items in table[1:]:\n",
    "    percent_change=items.find_element(By.XPATH,'.//td[10]').text\n",
    "    percent_change=percent_change.replace(\"%\",\"\")\n",
    "    ticker=items.find_element(By.XPATH,'.//td[2]').text\n",
    "    name=items.find_element(By.XPATH,'.//td[3]').text\n",
    "    print(ticker)\n",
    "    print(name)\n",
    "    print(percent_change)"
   ]
  },
  {
   "cell_type": "code",
   "execution_count": 30,
   "id": "b1f9252e",
   "metadata": {},
   "outputs": [
    {
     "ename": "ElementClickInterceptedException",
     "evalue": "Message: element click intercepted: Element <a href=\"screener.ashx?v=111&amp;f=sec_energy&amp;r=21\" class=\"tab-link\">...</a> is not clickable at point (679, 707). Other element would receive the click: <iframe frameborder=\"0\" scrolling=\"no\" name=\"ad_is_1653113539418_ifr\" sandbox=\"allow-forms allow-modals allow-pointer-lock allow-popups allow-popups-to-escape-sandbox allow-presentation allow-same-origin allow-scripts\" src=\"about:blank\" height=\"100%\" width=\"100%\" data-gg-moat-ifr=\"\" id=\"ad_is_1653113539418_ifr\" title=\"Advertisement\" style=\"position: absolute; bottom: 0px;\"></iframe>\n  (Session info: chrome=101.0.4951.64)\nStacktrace:\n0   chromedriver                        0x0000000104d1bc34 chromedriver + 4406324\n1   chromedriver                        0x0000000104cb5290 chromedriver + 3986064\n2   chromedriver                        0x000000010491684c chromedriver + 190540\n3   chromedriver                        0x000000010494b908 chromedriver + 407816\n4   chromedriver                        0x0000000104949b54 chromedriver + 400212\n5   chromedriver                        0x0000000104947984 chromedriver + 391556\n6   chromedriver                        0x0000000104946a10 chromedriver + 387600\n7   chromedriver                        0x000000010493c180 chromedriver + 344448\n8   chromedriver                        0x000000010493bb6c chromedriver + 342892\n9   chromedriver                        0x000000010496e6e0 chromedriver + 550624\n10  chromedriver                        0x000000010493a864 chromedriver + 338020\n11  chromedriver                        0x0000000104ce1320 chromedriver + 4166432\n12  chromedriver                        0x0000000104cf6748 chromedriver + 4253512\n13  chromedriver                        0x0000000104cfacbc chromedriver + 4271292\n14  chromedriver                        0x0000000104cf7004 chromedriver + 4255748\n15  chromedriver                        0x0000000104cd708c chromedriver + 4124812\n16  chromedriver                        0x0000000104d0ebf8 chromedriver + 4353016\n17  chromedriver                        0x0000000104d0ed5c chromedriver + 4353372\n18  chromedriver                        0x0000000104d22438 chromedriver + 4432952\n19  libsystem_pthread.dylib             0x00000001957c226c _pthread_start + 148\n20  libsystem_pthread.dylib             0x00000001957bd08c thread_start + 8\n",
     "output_type": "error",
     "traceback": [
      "\u001b[0;31m---------------------------------------------------------------------------\u001b[0m",
      "\u001b[0;31mElementClickInterceptedException\u001b[0m          Traceback (most recent call last)",
      "\u001b[0;32m/var/folders/0d/2q3_g9bj7tn1m1t1w5crmtvh0000gn/T/ipykernel_2794/3689243789.py\u001b[0m in \u001b[0;36m<module>\u001b[0;34m\u001b[0m\n\u001b[0;32m----> 1\u001b[0;31m \u001b[0mdriver\u001b[0m\u001b[0;34m.\u001b[0m\u001b[0mfind_element\u001b[0m\u001b[0;34m(\u001b[0m\u001b[0mBy\u001b[0m\u001b[0;34m.\u001b[0m\u001b[0mXPATH\u001b[0m\u001b[0;34m,\u001b[0m\u001b[0;34m'//a[b[text()=\"next\"]]'\u001b[0m\u001b[0;34m)\u001b[0m\u001b[0;34m.\u001b[0m\u001b[0mclick\u001b[0m\u001b[0;34m(\u001b[0m\u001b[0;34m)\u001b[0m\u001b[0;34m\u001b[0m\u001b[0;34m\u001b[0m\u001b[0m\n\u001b[0m",
      "\u001b[0;32m~/opt/anaconda3/lib/python3.9/site-packages/selenium/webdriver/remote/webelement.py\u001b[0m in \u001b[0;36mclick\u001b[0;34m(self)\u001b[0m\n\u001b[1;32m     79\u001b[0m     \u001b[0;32mdef\u001b[0m \u001b[0mclick\u001b[0m\u001b[0;34m(\u001b[0m\u001b[0mself\u001b[0m\u001b[0;34m)\u001b[0m \u001b[0;34m->\u001b[0m \u001b[0;32mNone\u001b[0m\u001b[0;34m:\u001b[0m\u001b[0;34m\u001b[0m\u001b[0;34m\u001b[0m\u001b[0m\n\u001b[1;32m     80\u001b[0m         \u001b[0;34m\"\"\"Clicks the element.\"\"\"\u001b[0m\u001b[0;34m\u001b[0m\u001b[0;34m\u001b[0m\u001b[0m\n\u001b[0;32m---> 81\u001b[0;31m         \u001b[0mself\u001b[0m\u001b[0;34m.\u001b[0m\u001b[0m_execute\u001b[0m\u001b[0;34m(\u001b[0m\u001b[0mCommand\u001b[0m\u001b[0;34m.\u001b[0m\u001b[0mCLICK_ELEMENT\u001b[0m\u001b[0;34m)\u001b[0m\u001b[0;34m\u001b[0m\u001b[0;34m\u001b[0m\u001b[0m\n\u001b[0m\u001b[1;32m     82\u001b[0m \u001b[0;34m\u001b[0m\u001b[0m\n\u001b[1;32m     83\u001b[0m     \u001b[0;32mdef\u001b[0m \u001b[0msubmit\u001b[0m\u001b[0;34m(\u001b[0m\u001b[0mself\u001b[0m\u001b[0;34m)\u001b[0m\u001b[0;34m:\u001b[0m\u001b[0;34m\u001b[0m\u001b[0;34m\u001b[0m\u001b[0m\n",
      "\u001b[0;32m~/opt/anaconda3/lib/python3.9/site-packages/selenium/webdriver/remote/webelement.py\u001b[0m in \u001b[0;36m_execute\u001b[0;34m(self, command, params)\u001b[0m\n\u001b[1;32m    708\u001b[0m             \u001b[0mparams\u001b[0m \u001b[0;34m=\u001b[0m \u001b[0;34m{\u001b[0m\u001b[0;34m}\u001b[0m\u001b[0;34m\u001b[0m\u001b[0;34m\u001b[0m\u001b[0m\n\u001b[1;32m    709\u001b[0m         \u001b[0mparams\u001b[0m\u001b[0;34m[\u001b[0m\u001b[0;34m'id'\u001b[0m\u001b[0;34m]\u001b[0m \u001b[0;34m=\u001b[0m \u001b[0mself\u001b[0m\u001b[0;34m.\u001b[0m\u001b[0m_id\u001b[0m\u001b[0;34m\u001b[0m\u001b[0;34m\u001b[0m\u001b[0m\n\u001b[0;32m--> 710\u001b[0;31m         \u001b[0;32mreturn\u001b[0m \u001b[0mself\u001b[0m\u001b[0;34m.\u001b[0m\u001b[0m_parent\u001b[0m\u001b[0;34m.\u001b[0m\u001b[0mexecute\u001b[0m\u001b[0;34m(\u001b[0m\u001b[0mcommand\u001b[0m\u001b[0;34m,\u001b[0m \u001b[0mparams\u001b[0m\u001b[0;34m)\u001b[0m\u001b[0;34m\u001b[0m\u001b[0;34m\u001b[0m\u001b[0m\n\u001b[0m\u001b[1;32m    711\u001b[0m \u001b[0;34m\u001b[0m\u001b[0m\n\u001b[1;32m    712\u001b[0m     \u001b[0;32mdef\u001b[0m \u001b[0mfind_element\u001b[0m\u001b[0;34m(\u001b[0m\u001b[0mself\u001b[0m\u001b[0;34m,\u001b[0m \u001b[0mby\u001b[0m\u001b[0;34m=\u001b[0m\u001b[0mBy\u001b[0m\u001b[0;34m.\u001b[0m\u001b[0mID\u001b[0m\u001b[0;34m,\u001b[0m \u001b[0mvalue\u001b[0m\u001b[0;34m=\u001b[0m\u001b[0;32mNone\u001b[0m\u001b[0;34m)\u001b[0m\u001b[0;34m:\u001b[0m\u001b[0;34m\u001b[0m\u001b[0;34m\u001b[0m\u001b[0m\n",
      "\u001b[0;32m~/opt/anaconda3/lib/python3.9/site-packages/selenium/webdriver/remote/webdriver.py\u001b[0m in \u001b[0;36mexecute\u001b[0;34m(self, driver_command, params)\u001b[0m\n\u001b[1;32m    423\u001b[0m         \u001b[0mresponse\u001b[0m \u001b[0;34m=\u001b[0m \u001b[0mself\u001b[0m\u001b[0;34m.\u001b[0m\u001b[0mcommand_executor\u001b[0m\u001b[0;34m.\u001b[0m\u001b[0mexecute\u001b[0m\u001b[0;34m(\u001b[0m\u001b[0mdriver_command\u001b[0m\u001b[0;34m,\u001b[0m \u001b[0mparams\u001b[0m\u001b[0;34m)\u001b[0m\u001b[0;34m\u001b[0m\u001b[0;34m\u001b[0m\u001b[0m\n\u001b[1;32m    424\u001b[0m         \u001b[0;32mif\u001b[0m \u001b[0mresponse\u001b[0m\u001b[0;34m:\u001b[0m\u001b[0;34m\u001b[0m\u001b[0;34m\u001b[0m\u001b[0m\n\u001b[0;32m--> 425\u001b[0;31m             \u001b[0mself\u001b[0m\u001b[0;34m.\u001b[0m\u001b[0merror_handler\u001b[0m\u001b[0;34m.\u001b[0m\u001b[0mcheck_response\u001b[0m\u001b[0;34m(\u001b[0m\u001b[0mresponse\u001b[0m\u001b[0;34m)\u001b[0m\u001b[0;34m\u001b[0m\u001b[0;34m\u001b[0m\u001b[0m\n\u001b[0m\u001b[1;32m    426\u001b[0m             response['value'] = self._unwrap_value(\n\u001b[1;32m    427\u001b[0m                 response.get('value', None))\n",
      "\u001b[0;32m~/opt/anaconda3/lib/python3.9/site-packages/selenium/webdriver/remote/errorhandler.py\u001b[0m in \u001b[0;36mcheck_response\u001b[0;34m(self, response)\u001b[0m\n\u001b[1;32m    245\u001b[0m                 \u001b[0malert_text\u001b[0m \u001b[0;34m=\u001b[0m \u001b[0mvalue\u001b[0m\u001b[0;34m[\u001b[0m\u001b[0;34m'alert'\u001b[0m\u001b[0;34m]\u001b[0m\u001b[0;34m.\u001b[0m\u001b[0mget\u001b[0m\u001b[0;34m(\u001b[0m\u001b[0;34m'text'\u001b[0m\u001b[0;34m)\u001b[0m\u001b[0;34m\u001b[0m\u001b[0;34m\u001b[0m\u001b[0m\n\u001b[1;32m    246\u001b[0m             \u001b[0;32mraise\u001b[0m \u001b[0mexception_class\u001b[0m\u001b[0;34m(\u001b[0m\u001b[0mmessage\u001b[0m\u001b[0;34m,\u001b[0m \u001b[0mscreen\u001b[0m\u001b[0;34m,\u001b[0m \u001b[0mstacktrace\u001b[0m\u001b[0;34m,\u001b[0m \u001b[0malert_text\u001b[0m\u001b[0;34m)\u001b[0m  \u001b[0;31m# type: ignore[call-arg]  # mypy is not smart enough here\u001b[0m\u001b[0;34m\u001b[0m\u001b[0;34m\u001b[0m\u001b[0m\n\u001b[0;32m--> 247\u001b[0;31m         \u001b[0;32mraise\u001b[0m \u001b[0mexception_class\u001b[0m\u001b[0;34m(\u001b[0m\u001b[0mmessage\u001b[0m\u001b[0;34m,\u001b[0m \u001b[0mscreen\u001b[0m\u001b[0;34m,\u001b[0m \u001b[0mstacktrace\u001b[0m\u001b[0;34m)\u001b[0m\u001b[0;34m\u001b[0m\u001b[0;34m\u001b[0m\u001b[0m\n\u001b[0m\u001b[1;32m    248\u001b[0m \u001b[0;34m\u001b[0m\u001b[0m\n\u001b[1;32m    249\u001b[0m     \u001b[0;32mdef\u001b[0m \u001b[0m_value_or_default\u001b[0m\u001b[0;34m(\u001b[0m\u001b[0mself\u001b[0m\u001b[0;34m,\u001b[0m \u001b[0mobj\u001b[0m\u001b[0;34m:\u001b[0m \u001b[0mMapping\u001b[0m\u001b[0;34m[\u001b[0m\u001b[0m_KT\u001b[0m\u001b[0;34m,\u001b[0m \u001b[0m_VT\u001b[0m\u001b[0;34m]\u001b[0m\u001b[0;34m,\u001b[0m \u001b[0mkey\u001b[0m\u001b[0;34m:\u001b[0m \u001b[0m_KT\u001b[0m\u001b[0;34m,\u001b[0m \u001b[0mdefault\u001b[0m\u001b[0;34m:\u001b[0m \u001b[0m_VT\u001b[0m\u001b[0;34m)\u001b[0m \u001b[0;34m->\u001b[0m \u001b[0m_VT\u001b[0m\u001b[0;34m:\u001b[0m\u001b[0;34m\u001b[0m\u001b[0;34m\u001b[0m\u001b[0m\n",
      "\u001b[0;31mElementClickInterceptedException\u001b[0m: Message: element click intercepted: Element <a href=\"screener.ashx?v=111&amp;f=sec_energy&amp;r=21\" class=\"tab-link\">...</a> is not clickable at point (679, 707). Other element would receive the click: <iframe frameborder=\"0\" scrolling=\"no\" name=\"ad_is_1653113539418_ifr\" sandbox=\"allow-forms allow-modals allow-pointer-lock allow-popups allow-popups-to-escape-sandbox allow-presentation allow-same-origin allow-scripts\" src=\"about:blank\" height=\"100%\" width=\"100%\" data-gg-moat-ifr=\"\" id=\"ad_is_1653113539418_ifr\" title=\"Advertisement\" style=\"position: absolute; bottom: 0px;\"></iframe>\n  (Session info: chrome=101.0.4951.64)\nStacktrace:\n0   chromedriver                        0x0000000104d1bc34 chromedriver + 4406324\n1   chromedriver                        0x0000000104cb5290 chromedriver + 3986064\n2   chromedriver                        0x000000010491684c chromedriver + 190540\n3   chromedriver                        0x000000010494b908 chromedriver + 407816\n4   chromedriver                        0x0000000104949b54 chromedriver + 400212\n5   chromedriver                        0x0000000104947984 chromedriver + 391556\n6   chromedriver                        0x0000000104946a10 chromedriver + 387600\n7   chromedriver                        0x000000010493c180 chromedriver + 344448\n8   chromedriver                        0x000000010493bb6c chromedriver + 342892\n9   chromedriver                        0x000000010496e6e0 chromedriver + 550624\n10  chromedriver                        0x000000010493a864 chromedriver + 338020\n11  chromedriver                        0x0000000104ce1320 chromedriver + 4166432\n12  chromedriver                        0x0000000104cf6748 chromedriver + 4253512\n13  chromedriver                        0x0000000104cfacbc chromedriver + 4271292\n14  chromedriver                        0x0000000104cf7004 chromedriver + 4255748\n15  chromedriver                        0x0000000104cd708c chromedriver + 4124812\n16  chromedriver                        0x0000000104d0ebf8 chromedriver + 4353016\n17  chromedriver                        0x0000000104d0ed5c chromedriver + 4353372\n18  chromedriver                        0x0000000104d22438 chromedriver + 4432952\n19  libsystem_pthread.dylib             0x00000001957c226c _pthread_start + 148\n20  libsystem_pthread.dylib             0x00000001957bd08c thread_start + 8\n"
     ]
    }
   ],
   "source": [
    "driver.find_element(By.XPATH,'//a[b[text()=\"next\"]]').click()"
   ]
  },
  {
   "cell_type": "code",
   "execution_count": 36,
   "id": "2ac11ebf",
   "metadata": {},
   "outputs": [
    {
     "data": {
      "text/plain": [
       "[]"
      ]
     },
     "execution_count": 36,
     "metadata": {},
     "output_type": "execute_result"
    }
   ],
   "source": [
    "driver.find_elements(By.XPATH,'//table[@class=\"table-light\"]//tr')"
   ]
  },
  {
   "cell_type": "code",
   "execution_count": 37,
   "id": "b03b89a2",
   "metadata": {},
   "outputs": [
    {
     "data": {
      "text/plain": [
       "'<html lang=\"en-US\"><head>\\n  <meta http-equiv=\"X-UA-Compatible\" content=\"IE=Edge\">\\n  <meta name=\"robots\" content=\"noindex, nofollow\">\\n  <meta name=\"viewport\" content=\"width=device-width,initial-scale=1\">\\n  <title>Just a moment...</title>\\n  <style>\\n    html, body {width: 100%; height: 100%; margin: 0; padding: 0;}\\n    body {background-color: #ffffff; color: #000000; font-family:-apple-system, system-ui, BlinkMacSystemFont, \"Segoe UI\", Roboto, Oxygen, Ubuntu, \"Helvetica Neue\",Arial, sans-serif; font-size: 16px; line-height: 1.7em;-webkit-font-smoothing: antialiased;}\\n    h1 { text-align: center; font-weight:700; margin: 16px 0; font-size: 32px; color:#000000; line-height: 1.25;}\\n    p {font-size: 20px; font-weight: 400; margin: 8px 0;}\\n    p, .attribution, {text-align: center;}\\n    #spinner {margin: 0 auto 30px auto; display: block;}\\n    .attribution {margin-top: 32px;}\\n    @keyframes fader     { 0% {opacity: 0.2;} 50% {opacity: 1.0;} 100% {opacity: 0.2;} }\\n    @-webkit-keyframes fader { 0% {opacity: 0.2;} 50% {opacity: 1.0;} 100% {opacity: 0.2;} }\\n    #cf-bubbles > .bubbles { animation: fader 1.6s infinite;}\\n    #cf-bubbles > .bubbles:nth-child(2) { animation-delay: .2s;}\\n    #cf-bubbles > .bubbles:nth-child(3) { animation-delay: .4s;}\\n    .bubbles { background-color: #f58220; width:20px; height: 20px; margin:2px; border-radius:100%; display:inline-block; }\\n    a { color: #2c7cb0; text-decoration: none; -moz-transition: color 0.15s ease; -o-transition: color 0.15s ease; -webkit-transition: color 0.15s ease; transition: color 0.15s ease; }\\n    a:hover{color: #f4a15d}\\n    .attribution{font-size: 16px; line-height: 1.5;}\\n    .ray_id{display: block; margin-top: 8px;}\\n    #cf-wrapper #challenge-form { padding-top:25px; padding-bottom:25px; }\\n    #cf-hcaptcha-container { text-align:center;}\\n    #cf-hcaptcha-container iframe { display: inline-block;}\\n  </style>\\n\\n      <meta http-equiv=\"refresh\" content=\"35\">\\n  <script>\\n    //<![CDATA[\\n    (function(){\\n      \\n      window._cf_chl_opt={\\n        cvId: \"2\",\\n        cType: \"non-interactive\",\\n        cNounce: \"40849\",\\n        cRay: \"709fc525da3e9eef\",\\n        cHash: \"c9121781375c89c\",\\n        cUPMDTk: \"\\\\/screener.ashx?v=111&f=sec_energy&__cf_chl_tk=yfPOSSZ0tC1zMiWvF_AIZ.6vPDLGEUc11iCXfX7kapk-1652323021-0-gaNycGzNBlE\",\\n        cFPWv: \"b\",\\n        cTTimeMs: \"1000\",\\n        cRq: {\\n          ru: \"aHR0cHM6Ly9maW52aXouY29tL3NjcmVlbmVyLmFzaHg/dj0xMTEmZj1zZWNfZW5lcmd5\",\\n          ra: \"TW96aWxsYS81LjAgKE1hY2ludG9zaDsgSW50ZWwgTWFjIE9TIFggMTBfMTVfNykgQXBwbGVXZWJLaXQvNTM3LjM2IChLSFRNTCwgbGlrZSBHZWNrbykgSGVhZGxlc3NDaHJvbWUvMTAxLjAuNDk1MS42NCBTYWZhcmkvNTM3LjM2\",\\n          rm: \"R0VU\",\\n          d: \"gicquDMzRbhqJ1iYQ9KWT18fc+V+gwc4bnnpE8H2mWV7/99y+kS3WkKC1toBvuIN3XkBTacNDFc9XN+7R26N2aNboR/EotO9ozS4TwL5YNOyfSjwoC+PBT0IL2FgxyugzN7nG/ZzAoP7jd+E1EbVvASguQRFxJwT84WVRCAK6/gx8ZH7NqapgWnS4uCC5BWlTy+cTZHXBr7Bo2i9InXO55OgIsM0fS6k25UsAYZ1G8mOlCN0gOc7rinCO1A/DA2GrU/PrMth5MSh6ApJYJ94jpfrU/3F/VXSVYZhztb0Av9mbEvG6ZlI3asW77iPPNhsAF3wNrSnXPUnriVY6JQ3aKs+xhC+2evSm+p0QZa+fF3F6gQTHLOfxob7i9v6aLTisFnKSvvIWkWj4Z0RwIyZkyKbAo+oZUFp6e0MFj6xvnOcqliltGLiEODkMBFpuM0ogxELSdQKUGJYZ6NXYLU/g1ZGEiNR20lSBjsEO5RsfbnfCv0kLAHJ6lXQdeOnF8wD2GRseMxu/FV6d5R9q+WZcWv9T94eCa6PqS5qVbgA6FjSGrWk3jynq5dtqHI78WCm\",\\n          t: \"MTY1MjMyMzAyMS43NDgwMDA=\",\\n          m: \"+ZzycQs25CbKZL8rQIxAPkjInBK6W2Q5K0vfAjlfCoI=\",\\n          i1: \"5BV3cUsjIltU6czKsK0uEQ==\",\\n          i2: \"HoZfmCx/SttWETp+lEd9PQ==\",\\n          zh: \"14haQPT9jqDBsVRzHm55uAujaeTbiveQMsz/44BeKeI=\",\\n          uh: \"C+fnAw6DqIi3dutc5/wuf7h0dmTVPB6ilbpue3TJ6EM=\",\\n          hh: \"2kRpA5OFkksiDthQ4MD4DbTdaFDzqrXyjmEv6bPktnk=\",\\n        }\\n      }\\n      window._cf_chl_enter = function(){window._cf_chl_opt.p=1};\\n      \\n    })();\\n    //]]>\\n  </script>\\n  \\n\\n<script type=\"text/javascript\" src=\"/cdn-cgi/challenge-platform/h/b/orchestrate/jsch/v1?ray=709fc525da3e9eef\"></script></head>\\n<body>\\n  <table width=\"100%\" height=\"100%\" cellpadding=\"20\">\\n    <tbody><tr>\\n      <td align=\"center\" valign=\"middle\">\\n          <div class=\"cf-browser-verification cf-im-under-attack\">\\n  <noscript>\\n    <h1 data-translate=\"turn_on_js\" style=\"color:#bd2426;\">Please turn JavaScript on and reload the page.</h1>\\n  </noscript>\\n  <div id=\"cf-content\" style=\"display: block;\">\\n    \\n    <div id=\"cf-bubbles\">\\n      <div class=\"bubbles\"></div>\\n      <div class=\"bubbles\"></div>\\n      <div class=\"bubbles\"></div>\\n    </div>\\n    <h1><span data-translate=\"checking_browser\">Checking your browser before accessing</span> finviz.com.</h1>\\n    \\n    <div id=\"no-cookie-warning\" class=\"cookie-warning\" data-translate=\"turn_on_cookies\" style=\"display:none\">\\n      <p data-translate=\"turn_on_cookies\" style=\"color:#bd2426;\">Please enable Cookies and reload the page.</p>\\n    </div>\\n    <p data-translate=\"process_is_automatic\">This process is automatic. Your browser will redirect to your requested content shortly.</p>\\n    <p data-translate=\"allow_5_secs\" id=\"cf-spinner-allow-5-secs\">Please allow up to 5 seconds…</p>\\n    <p data-translate=\"redirecting\" id=\"cf-spinner-redirecting\" style=\"display:none\">Redirecting…</p>\\n  </div>\\n   \\n  <form class=\"challenge-form\" id=\"challenge-form\" action=\"/screener.ashx?v=111&amp;f=sec_energy&amp;__cf_chl_f_tk=yfPOSSZ0tC1zMiWvF_AIZ.6vPDLGEUc11iCXfX7kapk-1652323021-0-gaNycGzNBlE\" method=\"POST\" enctype=\"application/x-www-form-urlencoded\">\\n    <input type=\"hidden\" name=\"md\" value=\"RS1dUgfbbNB2rhQEgLWv0plze2eQl21QF7PXSz2VqH8-1652323021-0-AfAQagJat-F5BOq3CtVwXe-CcfDGU2YrVz8m3QgJbnbGoHjt7CS1gb_4M_PyUvIwqlJ3omh88hNJT3m63J4L0_Q74_DxaX3jB2dn0qvlyAe2wx_jQmbhTakipxsUjTA37T1TY_dMeRhttPpZSUP9BY9whd7why4Xnb74qCksVKUX9PuA942or158VHYjgfUE1LBhtiM2t2nbofdrThl2-FKVtQL0pfo4ZZyqDSf1DU33OhvbcFLa32EgNRmoTBoUecNADYHGr7pGc8bSfH4k1Ac7Ltxe1rYisL7O7wpo8Z7FtKpJkun7XdPzUfBW-d0hH1nqRPLQcKFyBO6ncECnUStCAovfuXGX0VtlXnBDsGCvC8Qyov2qM_FerWR6VI3uyH0uQgZjhqjFeOV892Ai8VbfFGaQhcNqf-PbiSGlMfXJTEoIyYT2I63kT-yEROBCKVlunx9G-nq3Di9ug2RGhU9X8FLxw4Cg66_KGAFwqVb4RVSbG45Ash4NMxdvzBVCs8PASIbanSYecHskeYRw0kEIMHSHRJTtn_HXfrEhExu0NQ-SiXl6Xmn7vQYkCdnOBTU007jrEcQHdMRdMbNMoC1Sk3Sfi70i2TsFbsEvqJajAOoEoYEXJd3c69Z3hG2lrRDXRkz2zc8h1g-z6ouuBsCKIfnWGmIstod9tgpa4J3Sisnu-4bVyAcEy-DNwxJVkzeHaTZbZ42hLw1lEDqnETo\">\\n    <input type=\"hidden\" name=\"r\" value=\"PzprXEa3EryhkFtoomTbfq5YQDXdhYZrzjkry1mQx1U-1652323021-0-AaxhGIg6yieSTnQheYcYyIp3zvmv8u/IUJdCBqXBMAFDbSOBGs8P3VpvNVD9Cy1MPtqAG0EiGj3YdRw+568/3CTLc8VkLF1LcUtvJl14tmNlYiUvP+At1csKsa0+iwkl4IF5USiD4AqxrEmSGUsVN65u1F21+PWVdXNwLmtl0QUcra0yHY9wdvQPjb4XHlFKP/YEvLO20XnF6/jyx8JMibrdJH4jw9MA8nUZYnxA54RNoeiwFj3FOnT7mXUvLMKEdvrbW04p00uINq4SdZSyYknKtnBq+/4f+k1APP2rTWZIO29gjMyhHDY6McetEKa/SvOH4x3ihKZVG2og7e2+/8OwvdgQQM//5oWZ2FcS8bI+890Nc3Eq6tcJElN8K06110HrqY1F9Qv5GpHppXHrQ3ILE/0h2iuxDVs29PwiIpJvCA65/AdMeynnK96kiLCcnW8vD71NawHKKLBQRQ1ywueqNM7ezj5GpZf1GH5XNLEX+d2eRSWJq38xhqo711ORL0I8F1lE/miMI70jVMtOdbXqXQ7kQsh8Rsk/rAca8EI1AUzNgH98omqIVNr7nlRX1wavHra7zRTPf0ABbtpqXJi+qMYigYZwM5kwCk3JuZzEvkGrWXrVLyvEgQgTZLSI+lTSNjlwg84VjGsqeWYL5uSqPC6gIXUaV+Ag8+de6NRtWdUzrq/DZag5ifuuPHonf3538XMeA66Zxz5Fe6OasZW8DJYjDpy/8PaT5GFz1TZJ6zm34F3dEeqHh8KCshblfLW9Lo3pksAHw1SCOfoGRi3w3JF+dnhEhPta0mORUKmpTa0dy4FZNg46ngMdSa5YsL4qK6cl6eUtm5BtRXuDslO77WNkWbC46kpthIz4yl92+lzcvKxwfjjJ7msNzf4C8k+bCyVPCMtgNRFg8TCHHx1pbfyVdxwvN1iWhtpRiR7cTihyTetVJ4KF7VH1OacjlLWH5Ken+Gt1sCWzgZdLID6EJdCrf5FInnYo+8DNQ2aMVm8sxoXXAtQkaordboN5jHy6/MTq6KoCNLO63Hrk6ItxNybUKyJv2DwgbBz//IamxPjrJ6ariET+yUe2SdKlGtHQuBKeSXz+6ODMEuLIg6Xe+hynRX14zfcfHvAhUfjrDCGdGg45al7qJ+DCzviRvtQaCmy41WyNZZy/SmlGal7/Ara93hyBzf473N7rGbLaPEDu/hKgjlxDjtS1DBlqo7FjpK7LXjLv7s9/GnhcUP6uOoN07LYSGAG63ir6r63k0b2NnANNq4ndD14YuiR2kMsp6gzCBUfRe1ARVNuWiG7Pi+j+s2UD71i4p1lPQWTByWd7FXc+eyfh4Cfe1GaGBFiwzMNlSW7mXYhWG/oW8imu9Y2AL5dEm8COaQtJWYsTRYRjQ+d0i1Ir8H3iTXlz842KiLvzt5DK2GSLKG0QYx/0E+f+TaVxwB1kUnje6P0FeXBtJE+RD0450KbOwvfHHmQa4dVYCQ2ENsprXBNWwpxMjoC4nUEihr70y+AZIc5Nr1hTiltfFZS8tjPd0RmRGID5CgHggClELO4/iOWNL2E=\">\\n    <input type=\"hidden\" value=\"1e3fb57e4326a50843446ba99aaeaea4\" id=\"jschl-vc\" name=\"jschl_vc\">\\n    <!-- <input type=\"hidden\" value=\"\" id=\"jschl-vc\" name=\"jschl_vc\"/> -->\\n    <input type=\"hidden\" name=\"pass\" value=\"1652323022.748-V9Gv0In/8u\">\\n    <input type=\"hidden\" id=\"jschl-answer\" name=\"jschl_answer\">\\n  <span style=\"display: none;\"><span class=\"text-gray-600\" data-translate=\"error\">error code: 1020</span></span></form>\\n     \\n    <script>\\n      //<![CDATA[\\n      (function(){\\n          var a = document.getElementById(\\'cf-content\\');\\n          a.style.display = \\'block\\';\\n          var isIE = /(MSIE|Trident\\\\/|Edge\\\\/)/i.test(window.navigator.userAgent);\\n          var trkjs = isIE ? new Image() : document.createElement(\\'img\\');\\n          trkjs.setAttribute(\"src\", \"/cdn-cgi/images/trace/jschal/js/transparent.gif?ray=709fc525da3e9eef\");\\n          trkjs.id = \"trk_jschal_js\";\\n          trkjs.setAttribute(\"alt\", \"\");\\n          document.body.appendChild(trkjs);\\n          var cpo=document.createElement(\\'script\\');\\n          cpo.type=\\'text/javascript\\';\\n          cpo.src=\"/cdn-cgi/challenge-platform/h/b/orchestrate/jsch/v1?ray=709fc525da3e9eef\";\\n          \\n          window._cf_chl_opt.cOgUHash = location.hash === \\'\\' && location.href.indexOf(\\'#\\') !== -1 ? \\'#\\' : location.hash;\\n          window._cf_chl_opt.cOgUQuery = location.search === \\'\\' && location.href.slice(0, -window._cf_chl_opt.cOgUHash.length).indexOf(\\'?\\') !== -1 ? \\'?\\' : location.search;\\n          if (window._cf_chl_opt.cUPMDTk && window.history && window.history.replaceState) {\\n            var ogU = location.pathname + window._cf_chl_opt.cOgUQuery + window._cf_chl_opt.cOgUHash;\\n            history.replaceState(null, null, \"\\\\/screener.ashx?v=111&f=sec_energy&__cf_chl_rt_tk=yfPOSSZ0tC1zMiWvF_AIZ.6vPDLGEUc11iCXfX7kapk-1652323021-0-gaNycGzNBlE\" + window._cf_chl_opt.cOgUHash);\\n            cpo.onload = function() {\\n              history.replaceState(null, null, ogU);\\n            };\\n          }\\n          \\n          document.getElementsByTagName(\\'head\\')[0].appendChild(cpo);\\n        }());\\n      //]]>\\n    </script>\\n  \\n\\n  \\n  <div id=\"trk_jschal_nojs\" style=\"background-image:url(\\'/cdn-cgi/images/trace/jschal/nojs/transparent.gif?ray=709fc525da3e9eef\\')\"> </div>\\n</div>\\n\\n          \\n          <div class=\"attribution\">\\n            DDoS protection by <a rel=\"noopener noreferrer\" href=\"https://www.cloudflare.com/5xx-error-landing/\" target=\"_blank\">Cloudflare</a>\\n            <br>\\n            <span class=\"ray_id\">Ray ID: <code>709fc525da3e9eef</code></span>\\n          </div>\\n      </td>\\n     \\n    </tr>\\n  </tbody></table><img src=\"/cdn-cgi/images/trace/jschal/js/transparent.gif?ray=709fc525da3e9eef\" id=\"trk_jschal_js\" alt=\"\">\\n\\n\\n</body></html>'"
      ]
     },
     "execution_count": 37,
     "metadata": {},
     "output_type": "execute_result"
    }
   ],
   "source": [
    "driver.page_source"
   ]
  },
  {
   "cell_type": "code",
   "execution_count": null,
   "id": "fa1e9774",
   "metadata": {},
   "outputs": [],
   "source": []
  }
 ],
 "metadata": {
  "kernelspec": {
   "display_name": "Python 3 (ipykernel)",
   "language": "python",
   "name": "python3"
  },
  "language_info": {
   "codemirror_mode": {
    "name": "ipython",
    "version": 3
   },
   "file_extension": ".py",
   "mimetype": "text/x-python",
   "name": "python",
   "nbconvert_exporter": "python",
   "pygments_lexer": "ipython3",
   "version": "3.9.7"
  }
 },
 "nbformat": 4,
 "nbformat_minor": 5
}
