{
 "cells": [
  {
   "cell_type": "code",
   "execution_count": 1,
   "id": "4cc89ade",
   "metadata": {},
   "outputs": [],
   "source": [
    "#selenium imports\n",
    "from selenium import webdriver\n",
    "from selenium.webdriver.common.keys import Keys\n",
    "from selenium.webdriver.support import expected_conditions as EC\n",
    "from selenium.webdriver.common.by import By\n",
    "from selenium.webdriver.support.wait import WebDriverWait\n",
    "import pandas as pd"
   ]
  },
  {
   "cell_type": "code",
   "execution_count": 2,
   "id": "15727e5e",
   "metadata": {},
   "outputs": [],
   "source": [
    "#other imports\n",
    "import os\n",
    "import wget"
   ]
  },
  {
   "cell_type": "code",
   "execution_count": 3,
   "id": "c8c82cba",
   "metadata": {},
   "outputs": [
    {
     "name": "stderr",
     "output_type": "stream",
     "text": [
      "/var/folders/0d/2q3_g9bj7tn1m1t1w5crmtvh0000gn/T/ipykernel_6865/942675586.py:1: DeprecationWarning: executable_path has been deprecated, please pass in a Service object\n",
      "  driver=webdriver.Chrome('/usr/local/bin/chromedriver')\n"
     ]
    }
   ],
   "source": [
    "driver=webdriver.Chrome('/usr/local/bin/chromedriver')"
   ]
  },
  {
   "cell_type": "code",
   "execution_count": 4,
   "id": "177588c6",
   "metadata": {},
   "outputs": [],
   "source": [
    "#load the page\n",
    "driver.get('https://store.steampowered.com/')"
   ]
  },
  {
   "cell_type": "code",
   "execution_count": 5,
   "id": "8b390bbf",
   "metadata": {},
   "outputs": [],
   "source": [
    "#search the product\n",
    "search_box=driver.find_element(By.XPATH,'//*[@id=\"store_nav_search_term\"]')\n",
    "search_box.send_keys('Ember Knights')\n",
    "search_box.send_keys(Keys.ENTER)"
   ]
  },
  {
   "cell_type": "code",
   "execution_count": 6,
   "id": "167b3243",
   "metadata": {},
   "outputs": [],
   "source": [
    "#click the first element of the list\n",
    "driver.find_element(By.XPATH,'//*[@id=\"search_resultsRows\"]//a').click()"
   ]
  },
  {
   "cell_type": "code",
   "execution_count": 7,
   "id": "b4409239",
   "metadata": {},
   "outputs": [],
   "source": [
    "#load the page until it is fully loaded\n",
    "#WebDriverWait(driver,15).until(EC.visibility_of_element_located((By.XPATH, '//div[@id=\"ViewAllReviewssummary\"]/a')))\n"
   ]
  },
  {
   "cell_type": "code",
   "execution_count": 8,
   "id": "7ca4a7e4",
   "metadata": {},
   "outputs": [
    {
     "name": "stdout",
     "output_type": "stream",
     "text": [
      "0\n",
      "780\n",
      "780\n",
      "1560\n",
      "1560\n",
      "2340\n",
      "2340\n",
      "3120\n",
      "3120\n",
      "3900\n",
      "3900\n",
      "4680\n",
      "4680\n",
      "5460\n",
      "5460\n",
      "5718\n",
      "5718\n",
      "5718\n"
     ]
    }
   ],
   "source": [
    "import time\n",
    "last_position=driver.execute_script(\"return window.pageYOffset;\")\n",
    "while True:\n",
    "    print(last_position)\n",
    "    driver.execute_script(\"window.scrollBy(0,780)\",\"\")\n",
    "    time.sleep(1)\n",
    "    curr_position = driver.execute_script(\"return window.pageYOffset;\")\n",
    "    print(curr_position)\n",
    "    if last_position == curr_position:\n",
    "        break\n",
    "    last_position=curr_position"
   ]
  },
  {
   "cell_type": "code",
   "execution_count": 10,
   "id": "9c089108",
   "metadata": {},
   "outputs": [
    {
     "name": "stdout",
     "output_type": "stream",
     "text": [
      "Browse all 436 reviews\n"
     ]
    }
   ],
   "source": [
    "print(driver.find_element(By.XPATH,'//div[@id=\"ViewAllReviewssummary\"]/a').text)"
   ]
  },
  {
   "cell_type": "code",
   "execution_count": 11,
   "id": "5fae7720",
   "metadata": {},
   "outputs": [],
   "source": [
    "driver.find_element(By.XPATH,'//div[@id=\"ViewAllReviewssummary\"]/a').click()"
   ]
  },
  {
   "cell_type": "code",
   "execution_count": 12,
   "id": "78ae838d",
   "metadata": {},
   "outputs": [],
   "source": [
    "try:\n",
    "    driver.find_element(By.XPATH,'//div[@class=\"adult_content_age_gate_buttons\"]/div[1]/span').click()\n",
    "except: \n",
    "    pass"
   ]
  },
  {
   "cell_type": "code",
   "execution_count": 13,
   "id": "4fc77e9b",
   "metadata": {},
   "outputs": [
    {
     "name": "stdout",
     "output_type": "stream",
     "text": [
      "10\n"
     ]
    }
   ],
   "source": [
    "reviews=driver.find_elements(By.XPATH,'//div[@class=\"apphub_CardContentMain\"]')\n",
    "print(len(reviews))"
   ]
  },
  {
   "cell_type": "code",
   "execution_count": 14,
   "id": "4e19d415",
   "metadata": {},
   "outputs": [],
   "source": [
    "#code to get the html content of the element\n",
    "#s = driver.find_element(By.XPATH,'//div[@class=\"apphub_CardContentMain\"]')\n",
    "#driver.execute_script(\"return arguments[0].innerHTML;\",reviews[5])\n",
    "#print(WebDriverWait(driver, 20).until(EC.visibility_of_element_located((By.XPATH, \"//span[@class='current-stage']\"))).get_attribute(\"innerHTML\"))\n"
   ]
  },
  {
   "cell_type": "code",
   "execution_count": 15,
   "id": "22ef46d1",
   "metadata": {},
   "outputs": [],
   "source": [
    "df=pd.DataFrame({'date':[''],'title':[''],'text':['']})\n"
   ]
  },
  {
   "cell_type": "code",
   "execution_count": 23,
   "id": "65d269ec",
   "metadata": {
    "scrolled": true
   },
   "outputs": [],
   "source": [
    "last_position = driver.execute_script(\"return window.pageYOffset;\")\n",
    "date_list=[]\n",
    "title_list=[]\n",
    "text_list=[]\n",
    "while True:\n",
    "    for review in reviews:\n",
    "        date=review.find_element(By.XPATH,'.//div[@class=\"date_posted\"]').text\n",
    "        title=review.find_element(By.XPATH,'.//div[@class=\"title\"]').text\n",
    "        text=review.find_element(By.XPATH,'.//div[@class=\"apphub_CardTextContent\"]').text\n",
    "        #print(date)\n",
    "        #print(title)\n",
    "        #print(text)\n",
    "        #df=df.append({'date':date,'title':title,'text':text},ignore_index=True\n",
    "        if text not in text_list:\n",
    "            date_list.append(date)\n",
    "            title_list.append(title)\n",
    "            text_list.append(text)\n",
    "    driver.execute_script(\"window.scrollBy(0,780)\",\"\")\n",
    "    time.sleep(1)\n",
    "    curr_position = driver.execute_script(\"return window.pageYOffset;\")\n",
    "    if last_position == curr_position:\n",
    "        break\n",
    "    last_position=curr_position\n",
    "    reviews=driver.find_elements(By.XPATH,'//div[@class=\"apphub_CardContentMain\"]')\n"
   ]
  },
  {
   "cell_type": "code",
   "execution_count": 24,
   "id": "e3003f2e",
   "metadata": {},
   "outputs": [
    {
     "data": {
      "text/plain": [
       "\"Posted: April 20\\nEARLY ACCESS REVIEW\\nThis game is extremely fun!\\nIt has a absolutely wonderful art style and is an exceptional local co-op game to play with your friends.\\nThe game play loop is quite fun and all of the enemies and allies look amazing.\\n\\nSuggestions for Developers:\\n1. Make Arlan's patch match so it stays on the same eye between his avatar in the store and the big version next to the dialog.\\n2. Make it easier to revive your friends. Possibilities include sacrificing some of your own life to save them, high-five to split life equally between two players (like Toejam & Earl), certain store items that revive them, reviving on mini-boss fights etc.\\n3. Maybe each colored ember knight could have a name and a special ability or unique weapon sort of like the old Teenage Mutant Ninja Turtle games.\""
      ]
     },
     "execution_count": 24,
     "metadata": {},
     "output_type": "execute_result"
    }
   ],
   "source": [
    "text_list[0]"
   ]
  },
  {
   "cell_type": "code",
   "execution_count": 25,
   "id": "f68c8de1",
   "metadata": {},
   "outputs": [],
   "source": [
    "review_cleaned=[]\n",
    "for text in text_list:\n",
    "    temp=text.split(\"REVIEW\")\n",
    "    striped=temp[1].strip()\n",
    "    review_cleaned.append(striped)"
   ]
  },
  {
   "cell_type": "code",
   "execution_count": 26,
   "id": "bfa32ad9",
   "metadata": {},
   "outputs": [
    {
     "data": {
      "text/plain": [
       "240"
      ]
     },
     "execution_count": 26,
     "metadata": {},
     "output_type": "execute_result"
    }
   ],
   "source": [
    "len(review_cleaned)"
   ]
  },
  {
   "cell_type": "code",
   "execution_count": 27,
   "id": "a4424b5e",
   "metadata": {},
   "outputs": [
    {
     "data": {
      "text/plain": [
       "240"
      ]
     },
     "execution_count": 27,
     "metadata": {},
     "output_type": "execute_result"
    }
   ],
   "source": [
    "len(text_list)"
   ]
  },
  {
   "cell_type": "code",
   "execution_count": 28,
   "id": "ccb2f7ea",
   "metadata": {},
   "outputs": [],
   "source": [
    "Data={\"Date\":date_list,\"Recommendation\":title_list,\"Review_raw\":text_list,\"Review_cleaned\":review_cleaned}\n",
    "df=pd.DataFrame(Data)"
   ]
  },
  {
   "cell_type": "code",
   "execution_count": 29,
   "id": "6cda39d0",
   "metadata": {},
   "outputs": [
    {
     "data": {
      "text/html": [
       "<div>\n",
       "<style scoped>\n",
       "    .dataframe tbody tr th:only-of-type {\n",
       "        vertical-align: middle;\n",
       "    }\n",
       "\n",
       "    .dataframe tbody tr th {\n",
       "        vertical-align: top;\n",
       "    }\n",
       "\n",
       "    .dataframe thead th {\n",
       "        text-align: right;\n",
       "    }\n",
       "</style>\n",
       "<table border=\"1\" class=\"dataframe\">\n",
       "  <thead>\n",
       "    <tr style=\"text-align: right;\">\n",
       "      <th></th>\n",
       "      <th>Date</th>\n",
       "      <th>Recommendation</th>\n",
       "      <th>Review_raw</th>\n",
       "      <th>Review_cleaned</th>\n",
       "    </tr>\n",
       "  </thead>\n",
       "  <tbody>\n",
       "    <tr>\n",
       "      <th>0</th>\n",
       "      <td>Posted: April 20</td>\n",
       "      <td>Recommended</td>\n",
       "      <td>Posted: April 20\\nEARLY ACCESS REVIEW\\nThis ga...</td>\n",
       "      <td>This game is extremely fun!\\nIt has a absolute...</td>\n",
       "    </tr>\n",
       "    <tr>\n",
       "      <th>1</th>\n",
       "      <td>Posted: April 21</td>\n",
       "      <td>Recommended</td>\n",
       "      <td>Posted: April 21\\nEARLY ACCESS REVIEW\\nMy 15th...</td>\n",
       "      <td>My 15th run was a victory run. I've collected ...</td>\n",
       "    </tr>\n",
       "    <tr>\n",
       "      <th>2</th>\n",
       "      <td>Posted: April 28</td>\n",
       "      <td>Recommended</td>\n",
       "      <td>Posted: April 28\\nEARLY ACCESS REVIEW\\nVideo r...</td>\n",
       "      <td>Video review: https://youtu.be/5Ly7F_sXi0s\\n* ...</td>\n",
       "    </tr>\n",
       "    <tr>\n",
       "      <th>3</th>\n",
       "      <td>Posted: April 20</td>\n",
       "      <td>Recommended</td>\n",
       "      <td>Posted: April 20\\nEARLY ACCESS REVIEW\\nco-op r...</td>\n",
       "      <td>co-op rouge like, love it</td>\n",
       "    </tr>\n",
       "    <tr>\n",
       "      <th>4</th>\n",
       "      <td>Posted: April 25</td>\n",
       "      <td>Recommended</td>\n",
       "      <td>Posted: April 25\\nEARLY ACCESS REVIEW\\nvery ni...</td>\n",
       "      <td>very nice game\\njust reporting a bug that the ...</td>\n",
       "    </tr>\n",
       "    <tr>\n",
       "      <th>...</th>\n",
       "      <td>...</td>\n",
       "      <td>...</td>\n",
       "      <td>...</td>\n",
       "      <td>...</td>\n",
       "    </tr>\n",
       "    <tr>\n",
       "      <th>235</th>\n",
       "      <td>Posted: April 23</td>\n",
       "      <td>Recommended</td>\n",
       "      <td>Posted: April 23\\nEARLY ACCESS REVIEW\\nI don't...</td>\n",
       "      <td>I don't usually comment in any of these, but t...</td>\n",
       "    </tr>\n",
       "    <tr>\n",
       "      <th>236</th>\n",
       "      <td>Posted: April 23</td>\n",
       "      <td>Recommended</td>\n",
       "      <td>Posted: April 23\\nEARLY ACCESS REVIEW\\nEmber K...</td>\n",
       "      <td>Ember Knights is a good game, but i think a fe...</td>\n",
       "    </tr>\n",
       "    <tr>\n",
       "      <th>237</th>\n",
       "      <td>Posted: April 23</td>\n",
       "      <td>Recommended</td>\n",
       "      <td>Posted: April 23\\nEARLY ACCESS REVIEW\\nGood ro...</td>\n",
       "      <td>Good rogue like, very satisfying and the actio...</td>\n",
       "    </tr>\n",
       "    <tr>\n",
       "      <th>238</th>\n",
       "      <td>Posted: April 23</td>\n",
       "      <td>Recommended</td>\n",
       "      <td>Posted: April 23\\nEARLY ACCESS REVIEW\\nA good ...</td>\n",
       "      <td>A good little rogue-lite game. Its fun, i like...</td>\n",
       "    </tr>\n",
       "    <tr>\n",
       "      <th>239</th>\n",
       "      <td>Posted: April 23</td>\n",
       "      <td>Recommended</td>\n",
       "      <td>Posted: April 23\\nEARLY ACCESS REVIEW\\nReally ...</td>\n",
       "      <td>Really fun game so far. The more I play it the...</td>\n",
       "    </tr>\n",
       "  </tbody>\n",
       "</table>\n",
       "<p>240 rows × 4 columns</p>\n",
       "</div>"
      ],
      "text/plain": [
       "                 Date Recommendation  \\\n",
       "0    Posted: April 20    Recommended   \n",
       "1    Posted: April 21    Recommended   \n",
       "2    Posted: April 28    Recommended   \n",
       "3    Posted: April 20    Recommended   \n",
       "4    Posted: April 25    Recommended   \n",
       "..                ...            ...   \n",
       "235  Posted: April 23    Recommended   \n",
       "236  Posted: April 23    Recommended   \n",
       "237  Posted: April 23    Recommended   \n",
       "238  Posted: April 23    Recommended   \n",
       "239  Posted: April 23    Recommended   \n",
       "\n",
       "                                            Review_raw  \\\n",
       "0    Posted: April 20\\nEARLY ACCESS REVIEW\\nThis ga...   \n",
       "1    Posted: April 21\\nEARLY ACCESS REVIEW\\nMy 15th...   \n",
       "2    Posted: April 28\\nEARLY ACCESS REVIEW\\nVideo r...   \n",
       "3    Posted: April 20\\nEARLY ACCESS REVIEW\\nco-op r...   \n",
       "4    Posted: April 25\\nEARLY ACCESS REVIEW\\nvery ni...   \n",
       "..                                                 ...   \n",
       "235  Posted: April 23\\nEARLY ACCESS REVIEW\\nI don't...   \n",
       "236  Posted: April 23\\nEARLY ACCESS REVIEW\\nEmber K...   \n",
       "237  Posted: April 23\\nEARLY ACCESS REVIEW\\nGood ro...   \n",
       "238  Posted: April 23\\nEARLY ACCESS REVIEW\\nA good ...   \n",
       "239  Posted: April 23\\nEARLY ACCESS REVIEW\\nReally ...   \n",
       "\n",
       "                                        Review_cleaned  \n",
       "0    This game is extremely fun!\\nIt has a absolute...  \n",
       "1    My 15th run was a victory run. I've collected ...  \n",
       "2    Video review: https://youtu.be/5Ly7F_sXi0s\\n* ...  \n",
       "3                            co-op rouge like, love it  \n",
       "4    very nice game\\njust reporting a bug that the ...  \n",
       "..                                                 ...  \n",
       "235  I don't usually comment in any of these, but t...  \n",
       "236  Ember Knights is a good game, but i think a fe...  \n",
       "237  Good rogue like, very satisfying and the actio...  \n",
       "238  A good little rogue-lite game. Its fun, i like...  \n",
       "239  Really fun game so far. The more I play it the...  \n",
       "\n",
       "[240 rows x 4 columns]"
      ]
     },
     "execution_count": 29,
     "metadata": {},
     "output_type": "execute_result"
    }
   ],
   "source": [
    "df"
   ]
  },
  {
   "cell_type": "code",
   "execution_count": null,
   "id": "82cac578",
   "metadata": {},
   "outputs": [],
   "source": []
  }
 ],
 "metadata": {
  "kernelspec": {
   "display_name": "Python 3 (ipykernel)",
   "language": "python",
   "name": "python3"
  },
  "language_info": {
   "codemirror_mode": {
    "name": "ipython",
    "version": 3
   },
   "file_extension": ".py",
   "mimetype": "text/x-python",
   "name": "python",
   "nbconvert_exporter": "python",
   "pygments_lexer": "ipython3",
   "version": "3.9.7"
  }
 },
 "nbformat": 4,
 "nbformat_minor": 5
}
