{
 "cells": [
  {
   "cell_type": "code",
   "execution_count": 2,
   "id": "842de8b4",
   "metadata": {},
   "outputs": [],
   "source": [
    "#selenium imports\n",
    "from selenium import webdriver\n",
    "from selenium.webdriver.common.keys import Keys\n",
    "from selenium.webdriver.support import expected_conditions as EC\n",
    "from selenium.webdriver.common.by import By\n",
    "from selenium.webdriver.support.wait import WebDriverWait\n",
    "import re\n",
    "import pandas as pd"
   ]
  },
  {
   "cell_type": "code",
   "execution_count": 3,
   "id": "68e13c28",
   "metadata": {},
   "outputs": [
    {
     "name": "stdout",
     "output_type": "stream",
     "text": [
      "Requirement already satisfied: wget in /Users/bikenkc/opt/anaconda3/lib/python3.9/site-packages (3.2)\n",
      "Note: you may need to restart the kernel to use updated packages.\n"
     ]
    }
   ],
   "source": [
    "pip install wget"
   ]
  },
  {
   "cell_type": "code",
   "execution_count": 12,
   "id": "3b66a662",
   "metadata": {},
   "outputs": [],
   "source": [
    "#other imports\n",
    "import os\n",
    "import wget"
   ]
  },
  {
   "cell_type": "code",
   "execution_count": 15,
   "id": "2e828fbc",
   "metadata": {},
   "outputs": [
    {
     "name": "stderr",
     "output_type": "stream",
     "text": [
      "/var/folders/0d/2q3_g9bj7tn1m1t1w5crmtvh0000gn/T/ipykernel_7478/306159595.py:1: DeprecationWarning: executable_path has been deprecated, please pass in a Service object\n",
      "  driver=webdriver.Chrome('/usr/local/bin/chromedriver')\n"
     ]
    }
   ],
   "source": [
    "driver=webdriver.Chrome('/usr/local/bin/chromedriver')\n"
   ]
  },
  {
   "cell_type": "code",
   "execution_count": 16,
   "id": "50f39633",
   "metadata": {},
   "outputs": [],
   "source": [
    "driver.get('https://www.ohchr.org/en/ohchr_homepage')\n"
   ]
  },
  {
   "cell_type": "code",
   "execution_count": 17,
   "id": "ac003c61",
   "metadata": {},
   "outputs": [],
   "source": [
    "search_button=driver.find_element(By.XPATH,'//a[@aria-label=\"search-button\"]')\n",
    "search_button.click()"
   ]
  },
  {
   "cell_type": "code",
   "execution_count": 18,
   "id": "db9b2178",
   "metadata": {},
   "outputs": [],
   "source": [
    "search_box=driver.find_element(By.XPATH,'//input[@id=\"header-primary__search-form-search\"]')"
   ]
  },
  {
   "cell_type": "code",
   "execution_count": 19,
   "id": "cf767746",
   "metadata": {},
   "outputs": [],
   "source": [
    "search_box.send_keys('Ukraine: civilian casualty update')\n"
   ]
  },
  {
   "cell_type": "code",
   "execution_count": null,
   "id": "31420813",
   "metadata": {},
   "outputs": [],
   "source": []
  },
  {
   "cell_type": "code",
   "execution_count": 570,
   "id": "d428e0d0",
   "metadata": {},
   "outputs": [],
   "source": [
    "driver.get('https://www.ohchr.org/en/news/2022/07/ukraine-civilian-casualty-update-4-july-2022')"
   ]
  },
  {
   "cell_type": "code",
   "execution_count": 571,
   "id": "6133851d",
   "metadata": {},
   "outputs": [],
   "source": [
    "news_block=driver.find_element(By.XPATH,'//div[@class=\"node-news__body\"]').text"
   ]
  },
  {
   "cell_type": "code",
   "execution_count": 572,
   "id": "59237024",
   "metadata": {},
   "outputs": [
    {
     "data": {
      "text/plain": [
       "'Date: 4 July 2022\\nFrom 4 a.m. on 24 February 2022, when the Russian Federation’s armed attack against Ukraine started, to 24:00 midnight on 3 July 2022 (local time), the Office of the UN High Commissioner for Human Rights (OHCHR) recorded 11,152 civilian casualties in the country: 4,889 killed and 6,263 injured. This included:\\na total of 4,889 killed (1,862 men, 1,264 women, 137 girls, and 157 boys, as well as 41 children and 1,428 adults whose sex is yet unknown)\\na total of 6,263 injured (1,246 men, 881 women, 138 girls, and 193 boys, as well as 190 children and 3,615 adults whose sex is yet unknown)\\nIn Donetsk and Luhansk regions: 6,252 casualties (2,844 killed and 3,408 injured)\\nOn Government-controlled territory: 5,242 casualties (2,643 killed and 2,599 injured)\\nOn territory controlled by Russian armed forces and affiliated armed groups: 1,010 casualties (201 killed and 809 injured)\\nIn other regions of Ukraine (the city of Kyiv, and Cherkasy, Chernihiv, Kharkiv, Kherson, Kyiv, Mykolaiv, Odesa, Sumy, Zaporizhzhia, Dnipropetrovsk, Poltava, Rivne, Vinnytsia, Ternopil and Zhytomyr regions), which were under Government control when casualties occurred: 4,900 casualties (2,045 killed and 2,855 injured)\\nCivilian casualties in Ukraine from 24 February to 3 July 2022 (individual cases verified by OHCHR), per month\\n  Killed Injured\\n24-28 February 336 461\\nMarch 3,028 2,384\\nApril 660 1,253\\nMay 453 1,012\\nJune 361 1,029\\n1-3 July 51 124\\nTotal 4,889 6,263\\nMost of the civilian casualties recorded were caused by the use of explosive weapons with wide area effects, including shelling from heavy artillery and multiple launch rocket systems, and missile and air strikes.\\nOHCHR believes that the actual figures are considerably higher, as the receipt of information from some locations where intense hostilities have been going on has been delayed and many reports are still pending corroboration. This concerns, for example, Mariupol (Donetsk region), Izium (Kharkiv region), Lysychansk, Popasna, and Sievierodonetsk (Luhansk region), where there are allegations of numerous civilian casualties.\\nCivilian casualties in June 2022\\nFrom 1 to 30 June 2022, OHCHR recorded 1,390 civilian casualties:\\n361 killed (112 men, 76 women, 5 boys, 4 girls, and 1 child and 163 adults whose sex is yet unknown); and\\n1,029 injured (223 men, 167 women, 35 boys, 14 girls, and 21 children and 569 adults whose sex is yet unknown).\\nThis included:\\n51 killed and 206 injured in 18 settlements in parts of Luhansk and Donetsk regions controlled by Russian armed forces and affiliated armed groups (18.5 percent of the total); and\\n310 killed and 823 injured in 162 settlements in regions (parts of regions), which were under Government control when casualties occurred (81.5 per cent of the total):\\nRegion\\nKilled\\nInjured\\nTotal\\nCherkasy region\\n1 3 4\\nDnipropetrovsk region\\n12 41 53\\nDonetsk region\\n94 233 327\\nKharkiv region\\n67 212 279\\nKherson region\\n2 3 5\\nKyiv city\\n1 6 7\\nKyiv region\\n1 2 3\\nLuhansk region\\n47 73 120\\nLviv region\\n0 11 11\\nMykolaiv region\\n31 71 102\\nOdesa region\\n2 8 10\\nPoltava region\\n21 63 84\\nRivne region\\n4 14 18\\nSumy region\\n18 42 60\\nTernopil region\\n0 8 8\\nZaporizhzhia region\\n9 33 42\\nPer type of weapon/incident:\\nExplosive weapons with wide area effects: 353 killed and 1,011 injured (98 per cent);\\nMines and explosive remnants of war: 8 killed and 18 injured (2 per cent).\\nThe UN Human Rights Monitoring Mission in Ukraine\\nSince 2014, OHCHR has been documenting civilian casualties in Ukraine. Reports are based on information that the UN Human Rights Monitoring Mission in Ukraine (HRMMU) collected through interviews with victims and their relatives; witnesses; analysis of corroborating material confidentially shared with HRMMU; official records; open-source documents, photo and video materials; forensic records and reports; criminal investigation materials; court documents; reports by international and national non-governmental organisations; public reports by law enforcement and military actors; data from medical facilities and local authorities. All sources and information are assessed for their relevance and credibility and cross-checked against other information. In some instances, corroboration may take time. This may mean that conclusions on civilian casualties may be revised as more information becomes available andnumbers may change as new information emerges over time.\\nSince 24 February 2022, in the context of the Russian Federation’s armed attack against Ukraine, HRMMU has been unable to visit places of incidents and interview victims and witnesses there. All other sources of information have been extensively used, including HRMMU contact persons and partners in places where civilian casualties occurred. Statistics presented in the current update are based on individual civilian casualty records where the “reasonable grounds to believe” standard of proof was met, namely where, based on a body of verified information, an ordinarily prudent observer would have reasonable grounds to believe that the casualty took place as described.\\nENDS\\nUkrainian and Russian language versions of this update as they become available, please visit this page.'"
      ]
     },
     "execution_count": 572,
     "metadata": {},
     "output_type": "execute_result"
    }
   ],
   "source": [
    "news_block"
   ]
  },
  {
   "cell_type": "code",
   "execution_count": 573,
   "id": "b0e567cb",
   "metadata": {},
   "outputs": [],
   "source": [
    "dates=re.findall(r'(\\d+ \\w+ \\d+) \\(local time\\)',news_block)"
   ]
  },
  {
   "cell_type": "code",
   "execution_count": 574,
   "id": "dd48495f",
   "metadata": {},
   "outputs": [
    {
     "data": {
      "text/plain": [
       "['3 July 2022']"
      ]
     },
     "execution_count": 574,
     "metadata": {},
     "output_type": "execute_result"
    }
   ],
   "source": [
    "dates"
   ]
  },
  {
   "cell_type": "code",
   "execution_count": 575,
   "id": "e948f50f",
   "metadata": {},
   "outputs": [],
   "source": [
    "try:\n",
    "    published_dates=re.findall(r'Date: (\\d+ \\w+ \\d+)',news_block)\n",
    "except:\n",
    "    published_dates=[]\n",
    "    "
   ]
  },
  {
   "cell_type": "code",
   "execution_count": 576,
   "id": "8a7be50f",
   "metadata": {},
   "outputs": [
    {
     "data": {
      "text/plain": [
       "['',\n",
       " '6,252',\n",
       " '5,242',\n",
       " '1,010',\n",
       " '',\n",
       " '4,900',\n",
       " '',\n",
       " '',\n",
       " '',\n",
       " '',\n",
       " '',\n",
       " '',\n",
       " '',\n",
       " '',\n",
       " '']"
      ]
     },
     "execution_count": 576,
     "metadata": {},
     "output_type": "execute_result"
    }
   ],
   "source": [
    "casaulties=re.findall(r'([0-9]+[0-9,]+||[0-9]) casualties',news_block)\n",
    "casaulties"
   ]
  },
  {
   "cell_type": "code",
   "execution_count": 577,
   "id": "57ad43a9",
   "metadata": {},
   "outputs": [
    {
     "data": {
      "text/plain": [
       "['4,889', '4,889', '2,844', '2,643', '201', '2,045', '361', '51', '310', '353']"
      ]
     },
     "execution_count": 577,
     "metadata": {},
     "output_type": "execute_result"
    }
   ],
   "source": [
    "deaths=re.findall(r'([0-9]+[0-9,]+) killed',news_block)\n",
    "deaths"
   ]
  },
  {
   "cell_type": "code",
   "execution_count": 578,
   "id": "d914a3f1",
   "metadata": {},
   "outputs": [
    {
     "data": {
      "text/plain": [
       "['6,263',\n",
       " '6,263',\n",
       " '3,408',\n",
       " '2,599',\n",
       " '809',\n",
       " '2,855',\n",
       " '1,029',\n",
       " '206',\n",
       " '823',\n",
       " '1,011',\n",
       " '18']"
      ]
     },
     "execution_count": 578,
     "metadata": {},
     "output_type": "execute_result"
    }
   ],
   "source": [
    "injured=re.findall(r'([0-9]+[0-9,]+||[0-9]) injured',news_block)\n",
    "injured"
   ]
  },
  {
   "cell_type": "code",
   "execution_count": 579,
   "id": "a3b14411",
   "metadata": {},
   "outputs": [
    {
     "data": {
      "text/plain": [
       "['1,862', '1,246', '112', '223']"
      ]
     },
     "execution_count": 579,
     "metadata": {},
     "output_type": "execute_result"
    }
   ],
   "source": [
    "men=re.findall(r'([0-9]+[0-9,]+) men',news_block)\n",
    "men"
   ]
  },
  {
   "cell_type": "code",
   "execution_count": 580,
   "id": "a60b7a9c",
   "metadata": {},
   "outputs": [
    {
     "data": {
      "text/plain": [
       "['1,264', '881', '76', '167']"
      ]
     },
     "execution_count": 580,
     "metadata": {},
     "output_type": "execute_result"
    }
   ],
   "source": [
    "women=re.findall(r'([0-9]+[0-9,]+) women',news_block)\n",
    "women"
   ]
  },
  {
   "cell_type": "code",
   "execution_count": 581,
   "id": "c4b0f20a",
   "metadata": {},
   "outputs": [
    {
     "data": {
      "text/plain": [
       "['157', '193', '5', '35']"
      ]
     },
     "execution_count": 581,
     "metadata": {},
     "output_type": "execute_result"
    }
   ],
   "source": [
    "boys=re.findall(r'([0-9]+[0-9,]+||[0-9]) boys',news_block)\n",
    "boys"
   ]
  },
  {
   "cell_type": "code",
   "execution_count": 582,
   "id": "e58afd40",
   "metadata": {},
   "outputs": [
    {
     "data": {
      "text/plain": [
       "['137', '138', '4', '14']"
      ]
     },
     "execution_count": 582,
     "metadata": {},
     "output_type": "execute_result"
    }
   ],
   "source": [
    "girls=re.findall(r'([0-9]+[0-9,]+||[0-9]) girls',news_block)\n",
    "girls"
   ]
  },
  {
   "cell_type": "code",
   "execution_count": 583,
   "id": "5714701f",
   "metadata": {},
   "outputs": [
    {
     "data": {
      "text/plain": [
       "['1,428', '3,615', '163', '569']"
      ]
     },
     "execution_count": 583,
     "metadata": {},
     "output_type": "execute_result"
    }
   ],
   "source": [
    "adults=re.findall(r'([0-9]+[0-9,]+||[0-9]) adults',news_block)\n",
    "adults"
   ]
  },
  {
   "cell_type": "code",
   "execution_count": 584,
   "id": "566df186",
   "metadata": {},
   "outputs": [
    {
     "data": {
      "text/plain": [
       "['41', '190', '21']"
      ]
     },
     "execution_count": 584,
     "metadata": {},
     "output_type": "execute_result"
    }
   ],
   "source": [
    "childrens=re.findall(r'([0-9]+[0-9,]+||[0-9]) children',news_block)\n",
    "childrens"
   ]
  },
  {
   "cell_type": "markdown",
   "id": "cf77426b",
   "metadata": {},
   "source": [
    "\n",
    "df=pd.DataFrame({'date':[''],\n",
    "                'publised_date':[''],\n",
    "                 'total_death':[''],\n",
    "                 'total_death_men':[''],\n",
    "                 'total_death_women':[''],\n",
    "                 'total_death_girls':[''],\n",
    "                 'total_death_boys':[''],\n",
    "                 'total_death_children':[''],\n",
    "                 'total_death_adults':[''],\n",
    "                 'total_injured':[''],\n",
    "                 'total_injured_men':[''],\n",
    "                 'total_injured_women':[''],\n",
    "                 'total_injured_girls':[''],\n",
    "                 'total_injured_boys':[''],\n",
    "                 'total_injured_children':[''],\n",
    "                 'total_injured_adults':[''],\n",
    "                 'casualties_cptl':[''],\n",
    "                 'death_cptl':[''],\n",
    "                 'injured_cptl':[''],\n",
    "                 'casaulties_gov_ctrl':[''],\n",
    "                 'death_gov_ctrl':[''],\n",
    "                 'injured_gov_ctrl':[''],\n",
    "                 'casaulties_republic':[''],\n",
    "                 'death_republic':[''],\n",
    "                 'injured_republic':[''],\n",
    "                 'casaulties_other_area':[''],\n",
    "                 'death_other_area':[''],\n",
    "                 'injured_other_area':['']\n",
    "                 })\n"
   ]
  },
  {
   "cell_type": "code",
   "execution_count": 585,
   "id": "68b8370e",
   "metadata": {},
   "outputs": [],
   "source": [
    "date=dates[0]\n",
    "try:\n",
    "    published_date=published_dates[0]\n",
    "except:\n",
    "    published_date='NAN'\n",
    "\n",
    "total_death=deaths[0]\n",
    "total_death_men=men[0]\n",
    "total_death_women=women[0]\n",
    "total_death_girls=girls[0]\n",
    "total_death_boys=boys[0]\n",
    "total_death_children=childrens[0]\n",
    "total_death_adults=adults[0]\n",
    "\n",
    "total_injured=injured[1]\n",
    "total_injured_men=men[1]\n",
    "total_injured_women=women[1]\n",
    "total_injured_girls=girls[1]\n",
    "total_injured_boys=boys[1]\n",
    "total_injured_children=childrens[1]\n",
    "total_injured_adults=adults[1]\n",
    "\n",
    "casualties_cptl=casaulties[1]\n",
    "death_cptl=deaths[2]\n",
    "injured_cptl=injured[2]\n",
    "\n",
    "casaulties_gov_ctrl=casaulties[2]\n",
    "death_gov_ctrl=deaths[3]\n",
    "injured_gov_ctrl=injured[3]\n",
    "\n",
    "casaulties_republic=casaulties[3]\n",
    "death_republic=deaths[4]\n",
    "injured_republic=injured[4]\n",
    "\n",
    "casaulties_other_area=casaulties[5]\n",
    "death_other_area=deaths[5]\n",
    "injured_other_area=injured[5]"
   ]
  },
  {
   "cell_type": "code",
   "execution_count": 586,
   "id": "79965848",
   "metadata": {},
   "outputs": [],
   "source": [
    "#ukraine.csv\n",
    "from csv import writer"
   ]
  },
  {
   "cell_type": "code",
   "execution_count": 587,
   "id": "a02c5d51",
   "metadata": {},
   "outputs": [],
   "source": [
    "with open('ukraine.csv','a',newline=\"\") as f:\n",
    "    writer_object=writer(f)\n",
    "    writer_object.writerow([date,published_date,total_death,total_death_men,total_death_women,total_death_girls,total_death_boys,\n",
    "                           total_death_children,total_death_adults,total_injured,total_injured_men,total_injured_women,total_injured_girls,total_injured_boys,total_injured_children,total_injured_adults,\n",
    "                           casualties_cptl,death_cptl,injured_cptl,casaulties_gov_ctrl,death_gov_ctrl,injured_gov_ctrl,casaulties_republic,death_republic,injured_republic,casaulties_other_area,death_other_area,injured_other_area])"
   ]
  },
  {
   "cell_type": "markdown",
   "id": "b41f3a16",
   "metadata": {},
   "source": [
    "df=df.append({  'date':date,\n",
    "                'published_date':published_date,\n",
    "                 'total_death':total_death,\n",
    "                 'total_death_men':total_death_men,\n",
    "                 'total_death_women':total_death_women,\n",
    "                 'total_death_girls':total_death_girls,\n",
    "                 'total_death_boys':total_death_boys,\n",
    "                 'total_death_children':total_death_children,\n",
    "                 'total_death_adults':total_death_adults,\n",
    "                 'total_injured':total_injured,\n",
    "                 'total_injured_men':total_injured_men,\n",
    "                 'total_injured_women':total_injured_women,\n",
    "                 'total_injured_girls':total_injured_girls,\n",
    "                 'total_injured_boys':total_injured_boys,\n",
    "                 'total_injured_children':total_injured_children,\n",
    "                 'total_injured_adults':total_injured_adults,\n",
    "                 'casualties_cptl':casualties_cptl,\n",
    "                 'death_cptl':death_cptl,\n",
    "                 'injured_cptl':injured_cptl,\n",
    "                 'casaulties_gov_ctrl':casaulties_gov_ctrl,\n",
    "                 'death_gov_ctrl':death_gov_ctrl,\n",
    "                 'injured_gov_ctrl':injured_gov_ctrl,\n",
    "                 'casaulties_republic':casaulties_republic,\n",
    "                 'death_republic':death_republic,\n",
    "                 'injured_republic':injured_republic,\n",
    "                 'casaulties_other_area':casaulties_other_area,\n",
    "                 'death_other_area':death_other_area,\n",
    "                 'injured_other_area':injured_other_area},ignore_index=True)"
   ]
  },
  {
   "cell_type": "code",
   "execution_count": 569,
   "id": "d7ea0b8d",
   "metadata": {},
   "outputs": [],
   "source": [
    "#df"
   ]
  },
  {
   "cell_type": "code",
   "execution_count": 550,
   "id": "8e4ea9c0",
   "metadata": {},
   "outputs": [],
   "source": [
    "#df.to_csv('ukraine.csv')"
   ]
  },
  {
   "cell_type": "code",
   "execution_count": null,
   "id": "d6f894b8",
   "metadata": {},
   "outputs": [],
   "source": []
  },
  {
   "cell_type": "code",
   "execution_count": null,
   "id": "d0b4c2b6",
   "metadata": {},
   "outputs": [],
   "source": []
  }
 ],
 "metadata": {
  "kernelspec": {
   "display_name": "Python 3 (ipykernel)",
   "language": "python",
   "name": "python3"
  },
  "language_info": {
   "codemirror_mode": {
    "name": "ipython",
    "version": 3
   },
   "file_extension": ".py",
   "mimetype": "text/x-python",
   "name": "python",
   "nbconvert_exporter": "python",
   "pygments_lexer": "ipython3",
   "version": "3.9.7"
  }
 },
 "nbformat": 4,
 "nbformat_minor": 5
}
